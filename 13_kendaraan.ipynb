{
  "nbformat": 4,
  "nbformat_minor": 0,
  "metadata": {
    "colab": {
      "name": "13_kendaraan.ipynb",
      "provenance": [],
      "collapsed_sections": []
    },
    "kernelspec": {
      "display_name": "Python 3",
      "name": "python3"
    }
  },
  "cells": [
    {
      "cell_type": "markdown",
      "metadata": {
        "id": "G1MCI9aosP_q"
      },
      "source": [
        "**Rizki Syafaat Amardita** (1301184032)\n",
        "\n",
        "**Vijay Cheza Pangestu** (1301180351)"
      ]
    },
    {
      "cell_type": "markdown",
      "metadata": {
        "id": "5sATAv6x6JCK"
      },
      "source": [
        "# **Tugas Supervised**"
      ]
    },
    {
      "cell_type": "code",
      "metadata": {
        "id": "fbAK4yDE6Ra8"
      },
      "source": [
        "# type your code here\n",
        "import numpy as np                              #mengolah hitungan data\n",
        "import pandas as pd                             #import file mengolah csv ke dataframe\n",
        "import matplotlib.pyplot as plt                 #grafik plotingan\n",
        "from sklearn.preprocessing import LabelEncoder  #label encoder categorical\n",
        "from sklearn import preprocessing               #preporcessing"
      ],
      "execution_count": null,
      "outputs": []
    },
    {
      "cell_type": "markdown",
      "metadata": {
        "id": "PJ29XeMKXxIi"
      },
      "source": [
        "# **Eksplorasi dan Persiapan Data**"
      ]
    },
    {
      "cell_type": "code",
      "metadata": {
        "id": "JLCwjyTX6wrw"
      },
      "source": [
        "#menyiapkan dataset\n",
        "kendaraan_train_df = pd.read_csv(\"kendaraan_train.csv\")\n",
        "kendaraan_test_df = pd.read_csv(\"kendaraan_test.csv\")\n",
        "\n",
        "#mendrop atribut ID pada dataset train, karena pada dataset test tidak ada atribut ID\n",
        "kendaraan_train_df.drop('id', axis=1, inplace=True)"
      ],
      "execution_count": null,
      "outputs": []
    },
    {
      "cell_type": "code",
      "metadata": {
        "colab": {
          "base_uri": "https://localhost:8080/",
          "height": 195
        },
        "id": "tRkyTmFS8D7j",
        "outputId": "662b6724-3f45-4850-bafd-f65b8c6e4b42"
      },
      "source": [
        "kendaraan_train_df.head()"
      ],
      "execution_count": null,
      "outputs": [
        {
          "output_type": "execute_result",
          "data": {
            "text/html": [
              "<div>\n",
              "<style scoped>\n",
              "    .dataframe tbody tr th:only-of-type {\n",
              "        vertical-align: middle;\n",
              "    }\n",
              "\n",
              "    .dataframe tbody tr th {\n",
              "        vertical-align: top;\n",
              "    }\n",
              "\n",
              "    .dataframe thead th {\n",
              "        text-align: right;\n",
              "    }\n",
              "</style>\n",
              "<table border=\"1\" class=\"dataframe\">\n",
              "  <thead>\n",
              "    <tr style=\"text-align: right;\">\n",
              "      <th></th>\n",
              "      <th>Jenis_Kelamin</th>\n",
              "      <th>Umur</th>\n",
              "      <th>SIM</th>\n",
              "      <th>Kode_Daerah</th>\n",
              "      <th>Sudah_Asuransi</th>\n",
              "      <th>Umur_Kendaraan</th>\n",
              "      <th>Kendaraan_Rusak</th>\n",
              "      <th>Premi</th>\n",
              "      <th>Kanal_Penjualan</th>\n",
              "      <th>Lama_Berlangganan</th>\n",
              "      <th>Tertarik</th>\n",
              "    </tr>\n",
              "  </thead>\n",
              "  <tbody>\n",
              "    <tr>\n",
              "      <th>0</th>\n",
              "      <td>Wanita</td>\n",
              "      <td>30.0</td>\n",
              "      <td>1.0</td>\n",
              "      <td>33.0</td>\n",
              "      <td>1.0</td>\n",
              "      <td>&lt; 1 Tahun</td>\n",
              "      <td>Tidak</td>\n",
              "      <td>28029.0</td>\n",
              "      <td>152.0</td>\n",
              "      <td>97.0</td>\n",
              "      <td>0</td>\n",
              "    </tr>\n",
              "    <tr>\n",
              "      <th>1</th>\n",
              "      <td>Pria</td>\n",
              "      <td>48.0</td>\n",
              "      <td>1.0</td>\n",
              "      <td>39.0</td>\n",
              "      <td>0.0</td>\n",
              "      <td>&gt; 2 Tahun</td>\n",
              "      <td>Pernah</td>\n",
              "      <td>25800.0</td>\n",
              "      <td>29.0</td>\n",
              "      <td>158.0</td>\n",
              "      <td>0</td>\n",
              "    </tr>\n",
              "    <tr>\n",
              "      <th>2</th>\n",
              "      <td>NaN</td>\n",
              "      <td>21.0</td>\n",
              "      <td>1.0</td>\n",
              "      <td>46.0</td>\n",
              "      <td>1.0</td>\n",
              "      <td>&lt; 1 Tahun</td>\n",
              "      <td>Tidak</td>\n",
              "      <td>32733.0</td>\n",
              "      <td>160.0</td>\n",
              "      <td>119.0</td>\n",
              "      <td>0</td>\n",
              "    </tr>\n",
              "    <tr>\n",
              "      <th>3</th>\n",
              "      <td>Wanita</td>\n",
              "      <td>58.0</td>\n",
              "      <td>1.0</td>\n",
              "      <td>48.0</td>\n",
              "      <td>0.0</td>\n",
              "      <td>1-2 Tahun</td>\n",
              "      <td>Tidak</td>\n",
              "      <td>2630.0</td>\n",
              "      <td>124.0</td>\n",
              "      <td>63.0</td>\n",
              "      <td>0</td>\n",
              "    </tr>\n",
              "    <tr>\n",
              "      <th>4</th>\n",
              "      <td>Pria</td>\n",
              "      <td>50.0</td>\n",
              "      <td>1.0</td>\n",
              "      <td>35.0</td>\n",
              "      <td>0.0</td>\n",
              "      <td>&gt; 2 Tahun</td>\n",
              "      <td>NaN</td>\n",
              "      <td>34857.0</td>\n",
              "      <td>88.0</td>\n",
              "      <td>194.0</td>\n",
              "      <td>0</td>\n",
              "    </tr>\n",
              "  </tbody>\n",
              "</table>\n",
              "</div>"
            ],
            "text/plain": [
              "  Jenis_Kelamin  Umur  SIM  ...  Kanal_Penjualan  Lama_Berlangganan Tertarik\n",
              "0        Wanita  30.0  1.0  ...            152.0               97.0        0\n",
              "1          Pria  48.0  1.0  ...             29.0              158.0        0\n",
              "2           NaN  21.0  1.0  ...            160.0              119.0        0\n",
              "3        Wanita  58.0  1.0  ...            124.0               63.0        0\n",
              "4          Pria  50.0  1.0  ...             88.0              194.0        0\n",
              "\n",
              "[5 rows x 11 columns]"
            ]
          },
          "metadata": {
            "tags": []
          },
          "execution_count": 3
        }
      ]
    },
    {
      "cell_type": "code",
      "metadata": {
        "colab": {
          "base_uri": "https://localhost:8080/",
          "height": 195
        },
        "id": "5pVpyqLi8IZ-",
        "outputId": "30c88b17-3fd6-43dd-a499-dbdbd6e4fa8f"
      },
      "source": [
        "kendaraan_test_df.head()"
      ],
      "execution_count": null,
      "outputs": [
        {
          "output_type": "execute_result",
          "data": {
            "text/html": [
              "<div>\n",
              "<style scoped>\n",
              "    .dataframe tbody tr th:only-of-type {\n",
              "        vertical-align: middle;\n",
              "    }\n",
              "\n",
              "    .dataframe tbody tr th {\n",
              "        vertical-align: top;\n",
              "    }\n",
              "\n",
              "    .dataframe thead th {\n",
              "        text-align: right;\n",
              "    }\n",
              "</style>\n",
              "<table border=\"1\" class=\"dataframe\">\n",
              "  <thead>\n",
              "    <tr style=\"text-align: right;\">\n",
              "      <th></th>\n",
              "      <th>Jenis_Kelamin</th>\n",
              "      <th>Umur</th>\n",
              "      <th>SIM</th>\n",
              "      <th>Kode_Daerah</th>\n",
              "      <th>Sudah_Asuransi</th>\n",
              "      <th>Umur_Kendaraan</th>\n",
              "      <th>Kendaraan_Rusak</th>\n",
              "      <th>Premi</th>\n",
              "      <th>Kanal_Penjualan</th>\n",
              "      <th>Lama_Berlangganan</th>\n",
              "      <th>Tertarik</th>\n",
              "    </tr>\n",
              "  </thead>\n",
              "  <tbody>\n",
              "    <tr>\n",
              "      <th>0</th>\n",
              "      <td>Wanita</td>\n",
              "      <td>49</td>\n",
              "      <td>1</td>\n",
              "      <td>8</td>\n",
              "      <td>0</td>\n",
              "      <td>1-2 Tahun</td>\n",
              "      <td>Pernah</td>\n",
              "      <td>46963</td>\n",
              "      <td>26</td>\n",
              "      <td>145</td>\n",
              "      <td>0</td>\n",
              "    </tr>\n",
              "    <tr>\n",
              "      <th>1</th>\n",
              "      <td>Pria</td>\n",
              "      <td>22</td>\n",
              "      <td>1</td>\n",
              "      <td>47</td>\n",
              "      <td>1</td>\n",
              "      <td>&lt; 1 Tahun</td>\n",
              "      <td>Tidak</td>\n",
              "      <td>39624</td>\n",
              "      <td>152</td>\n",
              "      <td>241</td>\n",
              "      <td>0</td>\n",
              "    </tr>\n",
              "    <tr>\n",
              "      <th>2</th>\n",
              "      <td>Pria</td>\n",
              "      <td>24</td>\n",
              "      <td>1</td>\n",
              "      <td>28</td>\n",
              "      <td>1</td>\n",
              "      <td>&lt; 1 Tahun</td>\n",
              "      <td>Tidak</td>\n",
              "      <td>110479</td>\n",
              "      <td>152</td>\n",
              "      <td>62</td>\n",
              "      <td>0</td>\n",
              "    </tr>\n",
              "    <tr>\n",
              "      <th>3</th>\n",
              "      <td>Pria</td>\n",
              "      <td>46</td>\n",
              "      <td>1</td>\n",
              "      <td>8</td>\n",
              "      <td>1</td>\n",
              "      <td>1-2 Tahun</td>\n",
              "      <td>Tidak</td>\n",
              "      <td>36266</td>\n",
              "      <td>124</td>\n",
              "      <td>34</td>\n",
              "      <td>0</td>\n",
              "    </tr>\n",
              "    <tr>\n",
              "      <th>4</th>\n",
              "      <td>Pria</td>\n",
              "      <td>35</td>\n",
              "      <td>1</td>\n",
              "      <td>23</td>\n",
              "      <td>0</td>\n",
              "      <td>1-2 Tahun</td>\n",
              "      <td>Pernah</td>\n",
              "      <td>26963</td>\n",
              "      <td>152</td>\n",
              "      <td>229</td>\n",
              "      <td>0</td>\n",
              "    </tr>\n",
              "  </tbody>\n",
              "</table>\n",
              "</div>"
            ],
            "text/plain": [
              "  Jenis_Kelamin  Umur  SIM  ...  Kanal_Penjualan  Lama_Berlangganan Tertarik\n",
              "0        Wanita    49    1  ...               26                145        0\n",
              "1          Pria    22    1  ...              152                241        0\n",
              "2          Pria    24    1  ...              152                 62        0\n",
              "3          Pria    46    1  ...              124                 34        0\n",
              "4          Pria    35    1  ...              152                229        0\n",
              "\n",
              "[5 rows x 11 columns]"
            ]
          },
          "metadata": {
            "tags": []
          },
          "execution_count": 4
        }
      ]
    },
    {
      "cell_type": "code",
      "metadata": {
        "colab": {
          "base_uri": "https://localhost:8080/"
        },
        "id": "CVX4-TUt8TFz",
        "outputId": "e0d3b5df-ed1b-45d4-d16b-0c2b10637c50"
      },
      "source": [
        "#Menghitung jumlah data yang bernilai null pada setiap kolom dataset train\n",
        "kendaraan_train_df.isnull().sum()"
      ],
      "execution_count": null,
      "outputs": [
        {
          "output_type": "execute_result",
          "data": {
            "text/plain": [
              "Jenis_Kelamin        14440\n",
              "Umur                 14214\n",
              "SIM                  14404\n",
              "Kode_Daerah          14306\n",
              "Sudah_Asuransi       14229\n",
              "Umur_Kendaraan       14275\n",
              "Kendaraan_Rusak      14188\n",
              "Premi                14569\n",
              "Kanal_Penjualan      14299\n",
              "Lama_Berlangganan    13992\n",
              "Tertarik                 0\n",
              "dtype: int64"
            ]
          },
          "metadata": {
            "tags": []
          },
          "execution_count": 5
        }
      ]
    },
    {
      "cell_type": "code",
      "metadata": {
        "colab": {
          "base_uri": "https://localhost:8080/"
        },
        "id": "ISqGcX-r8ZI_",
        "outputId": "bf1809f5-cf2f-487d-9341-b75ed2930597"
      },
      "source": [
        "#Menghitung jumlah data yang bernilai null pada setiap kolom dataset test\n",
        "kendaraan_test_df.isnull().sum()"
      ],
      "execution_count": null,
      "outputs": [
        {
          "output_type": "execute_result",
          "data": {
            "text/plain": [
              "Jenis_Kelamin        0\n",
              "Umur                 0\n",
              "SIM                  0\n",
              "Kode_Daerah          0\n",
              "Sudah_Asuransi       0\n",
              "Umur_Kendaraan       0\n",
              "Kendaraan_Rusak      0\n",
              "Premi                0\n",
              "Kanal_Penjualan      0\n",
              "Lama_Berlangganan    0\n",
              "Tertarik             0\n",
              "dtype: int64"
            ]
          },
          "metadata": {
            "tags": []
          },
          "execution_count": 6
        }
      ]
    },
    {
      "cell_type": "markdown",
      "metadata": {
        "id": "MEGZVnLEX2SN"
      },
      "source": [
        "# **Mengatasi Missing Values**"
      ]
    },
    {
      "cell_type": "code",
      "metadata": {
        "id": "SPTWg-vC808K"
      },
      "source": [
        "# UNTUK DATASET TRAIN\n",
        "#menghindari missing values\n",
        "#mengisi nilai null dari atribut numeric dengan nilai median dari atribut tersebut\n",
        "\n",
        "kendaraan_train_df['Umur'] = kendaraan_train_df['Umur'].fillna((kendaraan_train_df['Umur'].median()))\n",
        "kendaraan_train_df['SIM'] = kendaraan_train_df['SIM'].fillna((kendaraan_train_df['SIM'].median()))\n",
        "kendaraan_train_df['Kode_Daerah'] = kendaraan_train_df['Kode_Daerah'].fillna((kendaraan_train_df['Kode_Daerah'].median()))\n",
        "kendaraan_train_df['Sudah_Asuransi'] = kendaraan_train_df['Sudah_Asuransi'].fillna((kendaraan_train_df['Sudah_Asuransi'].median()))\n",
        "kendaraan_train_df['Premi'] = kendaraan_train_df['Premi'].fillna((kendaraan_train_df['Premi'].median()))\n",
        "kendaraan_train_df['Kanal_Penjualan'] = kendaraan_train_df['Kanal_Penjualan'].fillna((kendaraan_train_df['Kanal_Penjualan'].median()))\n",
        "kendaraan_train_df['Lama_Berlangganan'] = kendaraan_train_df['Lama_Berlangganan'].fillna((kendaraan_train_df['Lama_Berlangganan'].median()))\n",
        "kendaraan_train_df['Tertarik'] = kendaraan_train_df['Tertarik'].fillna((kendaraan_train_df['Tertarik'].median()))\n",
        "\n",
        "#mengisi nilai nulll dari atribut categhorical dengan nilai modus dari atribut tersebut\n",
        "temp_jenis_kelamin = kendaraan_train_df['Jenis_Kelamin'].mode()\n",
        "kendaraan_train_df['Jenis_Kelamin'].fillna(temp_jenis_kelamin[0], inplace=True)\n",
        "\n",
        "temp_Umur_kendaraan = kendaraan_train_df['Umur_Kendaraan'].mode()\n",
        "kendaraan_train_df['Umur_Kendaraan'].fillna(temp_Umur_kendaraan[0], inplace=True)\n",
        "\n",
        "temp_kendaraan_Rusak = kendaraan_train_df['Kendaraan_Rusak'].mode()\n",
        "kendaraan_train_df['Kendaraan_Rusak'].fillna(temp_kendaraan_Rusak[0], inplace=True)\n",
        "\n",
        "#===========================================================================================================================================================\n",
        "\n",
        "# UNTUK DATASET TEST\n",
        "#menghindari missing values\n",
        "#mengisi nilai null dari atribut numeric dengan nilai median dari atribut tersebut\n",
        "\n",
        "kendaraan_test_df['Umur'] = kendaraan_test_df['Umur'].fillna((kendaraan_test_df['Umur'].median()))\n",
        "kendaraan_test_df['SIM'] = kendaraan_test_df['SIM'].fillna((kendaraan_test_df['SIM'].median()))\n",
        "kendaraan_test_df['Kode_Daerah'] = kendaraan_test_df['Kode_Daerah'].fillna((kendaraan_test_df['Kode_Daerah'].median()))\n",
        "kendaraan_test_df['Sudah_Asuransi'] = kendaraan_test_df['Sudah_Asuransi'].fillna((kendaraan_test_df['Sudah_Asuransi'].median()))\n",
        "kendaraan_test_df['Premi'] = kendaraan_test_df['Premi'].fillna((kendaraan_test_df['Premi'].median()))\n",
        "kendaraan_test_df['Kanal_Penjualan'] = kendaraan_test_df['Kanal_Penjualan'].fillna((kendaraan_test_df['Kanal_Penjualan'].median()))\n",
        "kendaraan_test_df['Lama_Berlangganan'] = kendaraan_test_df['Lama_Berlangganan'].fillna((kendaraan_test_df['Lama_Berlangganan'].median()))\n",
        "kendaraan_test_df['Tertarik'] = kendaraan_test_df['Tertarik'].fillna((kendaraan_test_df['Tertarik'].median()))\n",
        "\n",
        "#mengisi nilai nulll dari atribut categhorical dengan nilai modus dari atribut tersebut\n",
        "temp_jenis_kelamin = kendaraan_test_df['Jenis_Kelamin'].mode()\n",
        "kendaraan_test_df['Jenis_Kelamin'].fillna(temp_jenis_kelamin[0], inplace=True)\n",
        "\n",
        "temp_Umur_kendaraan_test_df = kendaraan_test_df['Umur_Kendaraan'].mode()\n",
        "kendaraan_test_df['Umur_Kendaraan'].fillna(temp_Umur_kendaraan_test_df[0], inplace=True)\n",
        "\n",
        "temp_kendaraan_test_df_Rusak = kendaraan_test_df['Kendaraan_Rusak'].mode()\n",
        "kendaraan_test_df['Kendaraan_Rusak'].fillna(temp_kendaraan_test_df_Rusak[0], inplace=True)"
      ],
      "execution_count": null,
      "outputs": []
    },
    {
      "cell_type": "markdown",
      "metadata": {
        "id": "xeLGZCN-XnMy"
      },
      "source": [
        "# **Mengecek data bernilai null**"
      ]
    },
    {
      "cell_type": "code",
      "metadata": {
        "colab": {
          "base_uri": "https://localhost:8080/"
        },
        "id": "At1Fm36QApyx",
        "outputId": "7756a927-1ca0-4a60-d019-8835a9cc193b"
      },
      "source": [
        "#Menghitung jumlah data yang kosong pada setiap kolom\n",
        "kendaraan_train_df.isnull().sum()\n"
      ],
      "execution_count": null,
      "outputs": [
        {
          "output_type": "execute_result",
          "data": {
            "text/plain": [
              "Jenis_Kelamin        0\n",
              "Umur                 0\n",
              "SIM                  0\n",
              "Kode_Daerah          0\n",
              "Sudah_Asuransi       0\n",
              "Umur_Kendaraan       0\n",
              "Kendaraan_Rusak      0\n",
              "Premi                0\n",
              "Kanal_Penjualan      0\n",
              "Lama_Berlangganan    0\n",
              "Tertarik             0\n",
              "dtype: int64"
            ]
          },
          "metadata": {
            "tags": []
          },
          "execution_count": 8
        }
      ]
    },
    {
      "cell_type": "code",
      "metadata": {
        "colab": {
          "base_uri": "https://localhost:8080/"
        },
        "id": "N4MjCF6qA3Xw",
        "outputId": "fa4b7b48-778c-4c01-de6c-8677750352dc"
      },
      "source": [
        "#Menghitung jumlah data yang kosong pada setiap kolom\n",
        "kendaraan_test_df.isnull().sum()"
      ],
      "execution_count": null,
      "outputs": [
        {
          "output_type": "execute_result",
          "data": {
            "text/plain": [
              "Jenis_Kelamin        0\n",
              "Umur                 0\n",
              "SIM                  0\n",
              "Kode_Daerah          0\n",
              "Sudah_Asuransi       0\n",
              "Umur_Kendaraan       0\n",
              "Kendaraan_Rusak      0\n",
              "Premi                0\n",
              "Kanal_Penjualan      0\n",
              "Lama_Berlangganan    0\n",
              "Tertarik             0\n",
              "dtype: int64"
            ]
          },
          "metadata": {
            "tags": []
          },
          "execution_count": 9
        }
      ]
    },
    {
      "cell_type": "markdown",
      "metadata": {
        "id": "vH7sMDx7XeFq"
      },
      "source": [
        "# **Mengecek tipe data**"
      ]
    },
    {
      "cell_type": "code",
      "metadata": {
        "colab": {
          "base_uri": "https://localhost:8080/"
        },
        "id": "JKHC25BiA7xc",
        "outputId": "aaa37332-547a-4f86-e520-5a2feb9c2a21"
      },
      "source": [
        "#mengecek data untuk melihat tipe object\n",
        "kendaraan_train_df.info()"
      ],
      "execution_count": null,
      "outputs": [
        {
          "output_type": "stream",
          "text": [
            "<class 'pandas.core.frame.DataFrame'>\n",
            "RangeIndex: 285831 entries, 0 to 285830\n",
            "Data columns (total 11 columns):\n",
            " #   Column             Non-Null Count   Dtype  \n",
            "---  ------             --------------   -----  \n",
            " 0   Jenis_Kelamin      285831 non-null  object \n",
            " 1   Umur               285831 non-null  float64\n",
            " 2   SIM                285831 non-null  float64\n",
            " 3   Kode_Daerah        285831 non-null  float64\n",
            " 4   Sudah_Asuransi     285831 non-null  float64\n",
            " 5   Umur_Kendaraan     285831 non-null  object \n",
            " 6   Kendaraan_Rusak    285831 non-null  object \n",
            " 7   Premi              285831 non-null  float64\n",
            " 8   Kanal_Penjualan    285831 non-null  float64\n",
            " 9   Lama_Berlangganan  285831 non-null  float64\n",
            " 10  Tertarik           285831 non-null  int64  \n",
            "dtypes: float64(7), int64(1), object(3)\n",
            "memory usage: 24.0+ MB\n"
          ],
          "name": "stdout"
        }
      ]
    },
    {
      "cell_type": "code",
      "metadata": {
        "colab": {
          "base_uri": "https://localhost:8080/"
        },
        "id": "C8jWZAN9A-aK",
        "outputId": "1e10ed8f-3057-4aed-e233-41f29ca6274a"
      },
      "source": [
        "#mengecek data untuk melihat tipe object\n",
        "kendaraan_test_df.info()"
      ],
      "execution_count": null,
      "outputs": [
        {
          "output_type": "stream",
          "text": [
            "<class 'pandas.core.frame.DataFrame'>\n",
            "RangeIndex: 47639 entries, 0 to 47638\n",
            "Data columns (total 11 columns):\n",
            " #   Column             Non-Null Count  Dtype \n",
            "---  ------             --------------  ----- \n",
            " 0   Jenis_Kelamin      47639 non-null  object\n",
            " 1   Umur               47639 non-null  int64 \n",
            " 2   SIM                47639 non-null  int64 \n",
            " 3   Kode_Daerah        47639 non-null  int64 \n",
            " 4   Sudah_Asuransi     47639 non-null  int64 \n",
            " 5   Umur_Kendaraan     47639 non-null  object\n",
            " 6   Kendaraan_Rusak    47639 non-null  object\n",
            " 7   Premi              47639 non-null  int64 \n",
            " 8   Kanal_Penjualan    47639 non-null  int64 \n",
            " 9   Lama_Berlangganan  47639 non-null  int64 \n",
            " 10  Tertarik           47639 non-null  int64 \n",
            "dtypes: int64(8), object(3)\n",
            "memory usage: 4.0+ MB\n"
          ],
          "name": "stdout"
        }
      ]
    },
    {
      "cell_type": "markdown",
      "metadata": {
        "id": "earwodMQI7Hs"
      },
      "source": [
        "# **Encode Data**"
      ]
    },
    {
      "cell_type": "code",
      "metadata": {
        "id": "fbrvdcypI9z7"
      },
      "source": [
        "#menggunakan library label encoder, agar mempermudah proses clustering\n",
        "#meng encode label categori menjadi numeric \n",
        "encoder = LabelEncoder()\n",
        "\n",
        "kendaraan_train_df['Jenis_Kelamin'] = encoder.fit_transform(kendaraan_train_df['Jenis_Kelamin'])\n",
        "kendaraan_train_df['Umur_Kendaraan'] = encoder.fit_transform(kendaraan_train_df['Umur_Kendaraan'])\n",
        "kendaraan_train_df['Kendaraan_Rusak'] = encoder.fit_transform(kendaraan_train_df['Kendaraan_Rusak'])\n",
        "\n",
        "kendaraan_test_df['Jenis_Kelamin'] = encoder.fit_transform(kendaraan_test_df['Jenis_Kelamin'])\n",
        "kendaraan_test_df['Umur_Kendaraan'] = encoder.fit_transform(kendaraan_test_df['Umur_Kendaraan'])\n",
        "kendaraan_test_df['Kendaraan_Rusak'] = encoder.fit_transform(kendaraan_test_df['Kendaraan_Rusak'])"
      ],
      "execution_count": null,
      "outputs": []
    },
    {
      "cell_type": "code",
      "metadata": {
        "colab": {
          "base_uri": "https://localhost:8080/",
          "height": 422
        },
        "id": "rYZm8D56JW0L",
        "outputId": "94fdb667-528e-48c5-b21e-84f5d60a4472"
      },
      "source": [
        "# melihat hasil encode data, contoh : umur kendaraan untuk 0 = 1-2 tahun, untuk 1 = < 1tahun, dan untuk  2 = > 2 tahun\n",
        "kendaraan_train_df"
      ],
      "execution_count": null,
      "outputs": [
        {
          "output_type": "execute_result",
          "data": {
            "text/html": [
              "<div>\n",
              "<style scoped>\n",
              "    .dataframe tbody tr th:only-of-type {\n",
              "        vertical-align: middle;\n",
              "    }\n",
              "\n",
              "    .dataframe tbody tr th {\n",
              "        vertical-align: top;\n",
              "    }\n",
              "\n",
              "    .dataframe thead th {\n",
              "        text-align: right;\n",
              "    }\n",
              "</style>\n",
              "<table border=\"1\" class=\"dataframe\">\n",
              "  <thead>\n",
              "    <tr style=\"text-align: right;\">\n",
              "      <th></th>\n",
              "      <th>Jenis_Kelamin</th>\n",
              "      <th>Umur</th>\n",
              "      <th>SIM</th>\n",
              "      <th>Kode_Daerah</th>\n",
              "      <th>Sudah_Asuransi</th>\n",
              "      <th>Umur_Kendaraan</th>\n",
              "      <th>Kendaraan_Rusak</th>\n",
              "      <th>Premi</th>\n",
              "      <th>Kanal_Penjualan</th>\n",
              "      <th>Lama_Berlangganan</th>\n",
              "      <th>Tertarik</th>\n",
              "    </tr>\n",
              "  </thead>\n",
              "  <tbody>\n",
              "    <tr>\n",
              "      <th>0</th>\n",
              "      <td>1</td>\n",
              "      <td>30.0</td>\n",
              "      <td>1.0</td>\n",
              "      <td>33.0</td>\n",
              "      <td>1.0</td>\n",
              "      <td>1</td>\n",
              "      <td>1</td>\n",
              "      <td>28029.0</td>\n",
              "      <td>152.0</td>\n",
              "      <td>97.0</td>\n",
              "      <td>0</td>\n",
              "    </tr>\n",
              "    <tr>\n",
              "      <th>1</th>\n",
              "      <td>0</td>\n",
              "      <td>48.0</td>\n",
              "      <td>1.0</td>\n",
              "      <td>39.0</td>\n",
              "      <td>0.0</td>\n",
              "      <td>2</td>\n",
              "      <td>0</td>\n",
              "      <td>25800.0</td>\n",
              "      <td>29.0</td>\n",
              "      <td>158.0</td>\n",
              "      <td>0</td>\n",
              "    </tr>\n",
              "    <tr>\n",
              "      <th>2</th>\n",
              "      <td>0</td>\n",
              "      <td>21.0</td>\n",
              "      <td>1.0</td>\n",
              "      <td>46.0</td>\n",
              "      <td>1.0</td>\n",
              "      <td>1</td>\n",
              "      <td>1</td>\n",
              "      <td>32733.0</td>\n",
              "      <td>160.0</td>\n",
              "      <td>119.0</td>\n",
              "      <td>0</td>\n",
              "    </tr>\n",
              "    <tr>\n",
              "      <th>3</th>\n",
              "      <td>1</td>\n",
              "      <td>58.0</td>\n",
              "      <td>1.0</td>\n",
              "      <td>48.0</td>\n",
              "      <td>0.0</td>\n",
              "      <td>0</td>\n",
              "      <td>1</td>\n",
              "      <td>2630.0</td>\n",
              "      <td>124.0</td>\n",
              "      <td>63.0</td>\n",
              "      <td>0</td>\n",
              "    </tr>\n",
              "    <tr>\n",
              "      <th>4</th>\n",
              "      <td>0</td>\n",
              "      <td>50.0</td>\n",
              "      <td>1.0</td>\n",
              "      <td>35.0</td>\n",
              "      <td>0.0</td>\n",
              "      <td>2</td>\n",
              "      <td>0</td>\n",
              "      <td>34857.0</td>\n",
              "      <td>88.0</td>\n",
              "      <td>194.0</td>\n",
              "      <td>0</td>\n",
              "    </tr>\n",
              "    <tr>\n",
              "      <th>...</th>\n",
              "      <td>...</td>\n",
              "      <td>...</td>\n",
              "      <td>...</td>\n",
              "      <td>...</td>\n",
              "      <td>...</td>\n",
              "      <td>...</td>\n",
              "      <td>...</td>\n",
              "      <td>...</td>\n",
              "      <td>...</td>\n",
              "      <td>...</td>\n",
              "      <td>...</td>\n",
              "    </tr>\n",
              "    <tr>\n",
              "      <th>285826</th>\n",
              "      <td>1</td>\n",
              "      <td>23.0</td>\n",
              "      <td>1.0</td>\n",
              "      <td>4.0</td>\n",
              "      <td>1.0</td>\n",
              "      <td>1</td>\n",
              "      <td>1</td>\n",
              "      <td>25988.0</td>\n",
              "      <td>152.0</td>\n",
              "      <td>217.0</td>\n",
              "      <td>0</td>\n",
              "    </tr>\n",
              "    <tr>\n",
              "      <th>285827</th>\n",
              "      <td>1</td>\n",
              "      <td>21.0</td>\n",
              "      <td>1.0</td>\n",
              "      <td>46.0</td>\n",
              "      <td>1.0</td>\n",
              "      <td>1</td>\n",
              "      <td>1</td>\n",
              "      <td>44686.0</td>\n",
              "      <td>152.0</td>\n",
              "      <td>50.0</td>\n",
              "      <td>0</td>\n",
              "    </tr>\n",
              "    <tr>\n",
              "      <th>285828</th>\n",
              "      <td>1</td>\n",
              "      <td>23.0</td>\n",
              "      <td>1.0</td>\n",
              "      <td>50.0</td>\n",
              "      <td>1.0</td>\n",
              "      <td>1</td>\n",
              "      <td>1</td>\n",
              "      <td>49751.0</td>\n",
              "      <td>152.0</td>\n",
              "      <td>226.0</td>\n",
              "      <td>0</td>\n",
              "    </tr>\n",
              "    <tr>\n",
              "      <th>285829</th>\n",
              "      <td>0</td>\n",
              "      <td>68.0</td>\n",
              "      <td>1.0</td>\n",
              "      <td>7.0</td>\n",
              "      <td>1.0</td>\n",
              "      <td>0</td>\n",
              "      <td>1</td>\n",
              "      <td>30503.0</td>\n",
              "      <td>124.0</td>\n",
              "      <td>270.0</td>\n",
              "      <td>0</td>\n",
              "    </tr>\n",
              "    <tr>\n",
              "      <th>285830</th>\n",
              "      <td>0</td>\n",
              "      <td>45.0</td>\n",
              "      <td>1.0</td>\n",
              "      <td>28.0</td>\n",
              "      <td>0.0</td>\n",
              "      <td>0</td>\n",
              "      <td>0</td>\n",
              "      <td>36480.0</td>\n",
              "      <td>26.0</td>\n",
              "      <td>44.0</td>\n",
              "      <td>0</td>\n",
              "    </tr>\n",
              "  </tbody>\n",
              "</table>\n",
              "<p>285831 rows × 11 columns</p>\n",
              "</div>"
            ],
            "text/plain": [
              "        Jenis_Kelamin  Umur  SIM  ...  Kanal_Penjualan  Lama_Berlangganan  Tertarik\n",
              "0                   1  30.0  1.0  ...            152.0               97.0         0\n",
              "1                   0  48.0  1.0  ...             29.0              158.0         0\n",
              "2                   0  21.0  1.0  ...            160.0              119.0         0\n",
              "3                   1  58.0  1.0  ...            124.0               63.0         0\n",
              "4                   0  50.0  1.0  ...             88.0              194.0         0\n",
              "...               ...   ...  ...  ...              ...                ...       ...\n",
              "285826              1  23.0  1.0  ...            152.0              217.0         0\n",
              "285827              1  21.0  1.0  ...            152.0               50.0         0\n",
              "285828              1  23.0  1.0  ...            152.0              226.0         0\n",
              "285829              0  68.0  1.0  ...            124.0              270.0         0\n",
              "285830              0  45.0  1.0  ...             26.0               44.0         0\n",
              "\n",
              "[285831 rows x 11 columns]"
            ]
          },
          "metadata": {
            "tags": []
          },
          "execution_count": 13
        }
      ]
    },
    {
      "cell_type": "code",
      "metadata": {
        "colab": {
          "base_uri": "https://localhost:8080/",
          "height": 422
        },
        "id": "-0J0uC7rJWsd",
        "outputId": "4216821a-a6d6-4a01-9698-bda26125bc79"
      },
      "source": [
        "# melihat hasil encode data, contoh : umur kendaraan untuk 0 = 1-2 tahun, untuk 1 = < 1tahun, dan untuk  2 = > 2 tahun\n",
        "kendaraan_test_df"
      ],
      "execution_count": null,
      "outputs": [
        {
          "output_type": "execute_result",
          "data": {
            "text/html": [
              "<div>\n",
              "<style scoped>\n",
              "    .dataframe tbody tr th:only-of-type {\n",
              "        vertical-align: middle;\n",
              "    }\n",
              "\n",
              "    .dataframe tbody tr th {\n",
              "        vertical-align: top;\n",
              "    }\n",
              "\n",
              "    .dataframe thead th {\n",
              "        text-align: right;\n",
              "    }\n",
              "</style>\n",
              "<table border=\"1\" class=\"dataframe\">\n",
              "  <thead>\n",
              "    <tr style=\"text-align: right;\">\n",
              "      <th></th>\n",
              "      <th>Jenis_Kelamin</th>\n",
              "      <th>Umur</th>\n",
              "      <th>SIM</th>\n",
              "      <th>Kode_Daerah</th>\n",
              "      <th>Sudah_Asuransi</th>\n",
              "      <th>Umur_Kendaraan</th>\n",
              "      <th>Kendaraan_Rusak</th>\n",
              "      <th>Premi</th>\n",
              "      <th>Kanal_Penjualan</th>\n",
              "      <th>Lama_Berlangganan</th>\n",
              "      <th>Tertarik</th>\n",
              "    </tr>\n",
              "  </thead>\n",
              "  <tbody>\n",
              "    <tr>\n",
              "      <th>0</th>\n",
              "      <td>1</td>\n",
              "      <td>49</td>\n",
              "      <td>1</td>\n",
              "      <td>8</td>\n",
              "      <td>0</td>\n",
              "      <td>0</td>\n",
              "      <td>0</td>\n",
              "      <td>46963</td>\n",
              "      <td>26</td>\n",
              "      <td>145</td>\n",
              "      <td>0</td>\n",
              "    </tr>\n",
              "    <tr>\n",
              "      <th>1</th>\n",
              "      <td>0</td>\n",
              "      <td>22</td>\n",
              "      <td>1</td>\n",
              "      <td>47</td>\n",
              "      <td>1</td>\n",
              "      <td>1</td>\n",
              "      <td>1</td>\n",
              "      <td>39624</td>\n",
              "      <td>152</td>\n",
              "      <td>241</td>\n",
              "      <td>0</td>\n",
              "    </tr>\n",
              "    <tr>\n",
              "      <th>2</th>\n",
              "      <td>0</td>\n",
              "      <td>24</td>\n",
              "      <td>1</td>\n",
              "      <td>28</td>\n",
              "      <td>1</td>\n",
              "      <td>1</td>\n",
              "      <td>1</td>\n",
              "      <td>110479</td>\n",
              "      <td>152</td>\n",
              "      <td>62</td>\n",
              "      <td>0</td>\n",
              "    </tr>\n",
              "    <tr>\n",
              "      <th>3</th>\n",
              "      <td>0</td>\n",
              "      <td>46</td>\n",
              "      <td>1</td>\n",
              "      <td>8</td>\n",
              "      <td>1</td>\n",
              "      <td>0</td>\n",
              "      <td>1</td>\n",
              "      <td>36266</td>\n",
              "      <td>124</td>\n",
              "      <td>34</td>\n",
              "      <td>0</td>\n",
              "    </tr>\n",
              "    <tr>\n",
              "      <th>4</th>\n",
              "      <td>0</td>\n",
              "      <td>35</td>\n",
              "      <td>1</td>\n",
              "      <td>23</td>\n",
              "      <td>0</td>\n",
              "      <td>0</td>\n",
              "      <td>0</td>\n",
              "      <td>26963</td>\n",
              "      <td>152</td>\n",
              "      <td>229</td>\n",
              "      <td>0</td>\n",
              "    </tr>\n",
              "    <tr>\n",
              "      <th>...</th>\n",
              "      <td>...</td>\n",
              "      <td>...</td>\n",
              "      <td>...</td>\n",
              "      <td>...</td>\n",
              "      <td>...</td>\n",
              "      <td>...</td>\n",
              "      <td>...</td>\n",
              "      <td>...</td>\n",
              "      <td>...</td>\n",
              "      <td>...</td>\n",
              "      <td>...</td>\n",
              "    </tr>\n",
              "    <tr>\n",
              "      <th>47634</th>\n",
              "      <td>0</td>\n",
              "      <td>61</td>\n",
              "      <td>1</td>\n",
              "      <td>46</td>\n",
              "      <td>0</td>\n",
              "      <td>2</td>\n",
              "      <td>0</td>\n",
              "      <td>31039</td>\n",
              "      <td>124</td>\n",
              "      <td>67</td>\n",
              "      <td>0</td>\n",
              "    </tr>\n",
              "    <tr>\n",
              "      <th>47635</th>\n",
              "      <td>0</td>\n",
              "      <td>41</td>\n",
              "      <td>1</td>\n",
              "      <td>15</td>\n",
              "      <td>0</td>\n",
              "      <td>0</td>\n",
              "      <td>0</td>\n",
              "      <td>2630</td>\n",
              "      <td>157</td>\n",
              "      <td>232</td>\n",
              "      <td>0</td>\n",
              "    </tr>\n",
              "    <tr>\n",
              "      <th>47636</th>\n",
              "      <td>0</td>\n",
              "      <td>24</td>\n",
              "      <td>1</td>\n",
              "      <td>29</td>\n",
              "      <td>1</td>\n",
              "      <td>1</td>\n",
              "      <td>1</td>\n",
              "      <td>33101</td>\n",
              "      <td>152</td>\n",
              "      <td>211</td>\n",
              "      <td>0</td>\n",
              "    </tr>\n",
              "    <tr>\n",
              "      <th>47637</th>\n",
              "      <td>0</td>\n",
              "      <td>59</td>\n",
              "      <td>1</td>\n",
              "      <td>30</td>\n",
              "      <td>0</td>\n",
              "      <td>0</td>\n",
              "      <td>0</td>\n",
              "      <td>37788</td>\n",
              "      <td>26</td>\n",
              "      <td>239</td>\n",
              "      <td>1</td>\n",
              "    </tr>\n",
              "    <tr>\n",
              "      <th>47638</th>\n",
              "      <td>0</td>\n",
              "      <td>52</td>\n",
              "      <td>1</td>\n",
              "      <td>31</td>\n",
              "      <td>0</td>\n",
              "      <td>0</td>\n",
              "      <td>1</td>\n",
              "      <td>2630</td>\n",
              "      <td>124</td>\n",
              "      <td>170</td>\n",
              "      <td>0</td>\n",
              "    </tr>\n",
              "  </tbody>\n",
              "</table>\n",
              "<p>47639 rows × 11 columns</p>\n",
              "</div>"
            ],
            "text/plain": [
              "       Jenis_Kelamin  Umur  SIM  ...  Kanal_Penjualan  Lama_Berlangganan  Tertarik\n",
              "0                  1    49    1  ...               26                145         0\n",
              "1                  0    22    1  ...              152                241         0\n",
              "2                  0    24    1  ...              152                 62         0\n",
              "3                  0    46    1  ...              124                 34         0\n",
              "4                  0    35    1  ...              152                229         0\n",
              "...              ...   ...  ...  ...              ...                ...       ...\n",
              "47634              0    61    1  ...              124                 67         0\n",
              "47635              0    41    1  ...              157                232         0\n",
              "47636              0    24    1  ...              152                211         0\n",
              "47637              0    59    1  ...               26                239         1\n",
              "47638              0    52    1  ...              124                170         0\n",
              "\n",
              "[47639 rows x 11 columns]"
            ]
          },
          "metadata": {
            "tags": []
          },
          "execution_count": 14
        }
      ]
    },
    {
      "cell_type": "code",
      "metadata": {
        "colab": {
          "base_uri": "https://localhost:8080/",
          "height": 304
        },
        "id": "9AQM3WOKoB2-",
        "outputId": "a4da8553-d434-47f6-9f6f-c581b229f9c5"
      },
      "source": [
        "kendaraan_train_df.describe()"
      ],
      "execution_count": null,
      "outputs": [
        {
          "output_type": "execute_result",
          "data": {
            "text/html": [
              "<div>\n",
              "<style scoped>\n",
              "    .dataframe tbody tr th:only-of-type {\n",
              "        vertical-align: middle;\n",
              "    }\n",
              "\n",
              "    .dataframe tbody tr th {\n",
              "        vertical-align: top;\n",
              "    }\n",
              "\n",
              "    .dataframe thead th {\n",
              "        text-align: right;\n",
              "    }\n",
              "</style>\n",
              "<table border=\"1\" class=\"dataframe\">\n",
              "  <thead>\n",
              "    <tr style=\"text-align: right;\">\n",
              "      <th></th>\n",
              "      <th>Jenis_Kelamin</th>\n",
              "      <th>Umur</th>\n",
              "      <th>SIM</th>\n",
              "      <th>Kode_Daerah</th>\n",
              "      <th>Sudah_Asuransi</th>\n",
              "      <th>Umur_Kendaraan</th>\n",
              "      <th>Kendaraan_Rusak</th>\n",
              "      <th>Premi</th>\n",
              "      <th>Kanal_Penjualan</th>\n",
              "      <th>Lama_Berlangganan</th>\n",
              "      <th>Tertarik</th>\n",
              "    </tr>\n",
              "  </thead>\n",
              "  <tbody>\n",
              "    <tr>\n",
              "      <th>count</th>\n",
              "      <td>285831.000000</td>\n",
              "      <td>285831.000000</td>\n",
              "      <td>285831.000000</td>\n",
              "      <td>285831.000000</td>\n",
              "      <td>285831.000000</td>\n",
              "      <td>285831.000000</td>\n",
              "      <td>285831.000000</td>\n",
              "      <td>285831.000000</td>\n",
              "      <td>285831.000000</td>\n",
              "      <td>285831.000000</td>\n",
              "      <td>285831.000000</td>\n",
              "    </tr>\n",
              "    <tr>\n",
              "      <th>mean</th>\n",
              "      <td>0.436317</td>\n",
              "      <td>38.702891</td>\n",
              "      <td>0.997957</td>\n",
              "      <td>26.485220</td>\n",
              "      <td>0.435939</td>\n",
              "      <td>0.490542</td>\n",
              "      <td>0.470628</td>\n",
              "      <td>30593.226088</td>\n",
              "      <td>113.021009</td>\n",
              "      <td>154.272287</td>\n",
              "      <td>0.122471</td>\n",
              "    </tr>\n",
              "    <tr>\n",
              "      <th>std</th>\n",
              "      <td>0.495929</td>\n",
              "      <td>15.144236</td>\n",
              "      <td>0.045155</td>\n",
              "      <td>12.921482</td>\n",
              "      <td>0.495880</td>\n",
              "      <td>0.574280</td>\n",
              "      <td>0.499137</td>\n",
              "      <td>16713.861261</td>\n",
              "      <td>53.008513</td>\n",
              "      <td>81.620707</td>\n",
              "      <td>0.327830</td>\n",
              "    </tr>\n",
              "    <tr>\n",
              "      <th>min</th>\n",
              "      <td>0.000000</td>\n",
              "      <td>20.000000</td>\n",
              "      <td>0.000000</td>\n",
              "      <td>0.000000</td>\n",
              "      <td>0.000000</td>\n",
              "      <td>0.000000</td>\n",
              "      <td>0.000000</td>\n",
              "      <td>2630.000000</td>\n",
              "      <td>1.000000</td>\n",
              "      <td>10.000000</td>\n",
              "      <td>0.000000</td>\n",
              "    </tr>\n",
              "    <tr>\n",
              "      <th>25%</th>\n",
              "      <td>0.000000</td>\n",
              "      <td>25.000000</td>\n",
              "      <td>1.000000</td>\n",
              "      <td>15.000000</td>\n",
              "      <td>0.000000</td>\n",
              "      <td>0.000000</td>\n",
              "      <td>0.000000</td>\n",
              "      <td>24929.000000</td>\n",
              "      <td>55.000000</td>\n",
              "      <td>85.000000</td>\n",
              "      <td>0.000000</td>\n",
              "    </tr>\n",
              "    <tr>\n",
              "      <th>50%</th>\n",
              "      <td>0.000000</td>\n",
              "      <td>36.000000</td>\n",
              "      <td>1.000000</td>\n",
              "      <td>28.000000</td>\n",
              "      <td>0.000000</td>\n",
              "      <td>0.000000</td>\n",
              "      <td>0.000000</td>\n",
              "      <td>31646.000000</td>\n",
              "      <td>132.000000</td>\n",
              "      <td>154.000000</td>\n",
              "      <td>0.000000</td>\n",
              "    </tr>\n",
              "    <tr>\n",
              "      <th>75%</th>\n",
              "      <td>1.000000</td>\n",
              "      <td>49.000000</td>\n",
              "      <td>1.000000</td>\n",
              "      <td>35.000000</td>\n",
              "      <td>1.000000</td>\n",
              "      <td>1.000000</td>\n",
              "      <td>1.000000</td>\n",
              "      <td>38845.000000</td>\n",
              "      <td>152.000000</td>\n",
              "      <td>223.000000</td>\n",
              "      <td>0.000000</td>\n",
              "    </tr>\n",
              "    <tr>\n",
              "      <th>max</th>\n",
              "      <td>1.000000</td>\n",
              "      <td>85.000000</td>\n",
              "      <td>1.000000</td>\n",
              "      <td>52.000000</td>\n",
              "      <td>1.000000</td>\n",
              "      <td>2.000000</td>\n",
              "      <td>1.000000</td>\n",
              "      <td>540165.000000</td>\n",
              "      <td>163.000000</td>\n",
              "      <td>299.000000</td>\n",
              "      <td>1.000000</td>\n",
              "    </tr>\n",
              "  </tbody>\n",
              "</table>\n",
              "</div>"
            ],
            "text/plain": [
              "       Jenis_Kelamin           Umur  ...  Lama_Berlangganan       Tertarik\n",
              "count  285831.000000  285831.000000  ...      285831.000000  285831.000000\n",
              "mean        0.436317      38.702891  ...         154.272287       0.122471\n",
              "std         0.495929      15.144236  ...          81.620707       0.327830\n",
              "min         0.000000      20.000000  ...          10.000000       0.000000\n",
              "25%         0.000000      25.000000  ...          85.000000       0.000000\n",
              "50%         0.000000      36.000000  ...         154.000000       0.000000\n",
              "75%         1.000000      49.000000  ...         223.000000       0.000000\n",
              "max         1.000000      85.000000  ...         299.000000       1.000000\n",
              "\n",
              "[8 rows x 11 columns]"
            ]
          },
          "metadata": {
            "tags": []
          },
          "execution_count": 15
        }
      ]
    },
    {
      "cell_type": "code",
      "metadata": {
        "colab": {
          "base_uri": "https://localhost:8080/",
          "height": 304
        },
        "id": "lrv-hdQKvfwo",
        "outputId": "9ad56f68-f4fa-4895-b14a-08f4041df843"
      },
      "source": [
        "kendaraan_test_df.describe()"
      ],
      "execution_count": null,
      "outputs": [
        {
          "output_type": "execute_result",
          "data": {
            "text/html": [
              "<div>\n",
              "<style scoped>\n",
              "    .dataframe tbody tr th:only-of-type {\n",
              "        vertical-align: middle;\n",
              "    }\n",
              "\n",
              "    .dataframe tbody tr th {\n",
              "        vertical-align: top;\n",
              "    }\n",
              "\n",
              "    .dataframe thead th {\n",
              "        text-align: right;\n",
              "    }\n",
              "</style>\n",
              "<table border=\"1\" class=\"dataframe\">\n",
              "  <thead>\n",
              "    <tr style=\"text-align: right;\">\n",
              "      <th></th>\n",
              "      <th>Jenis_Kelamin</th>\n",
              "      <th>Umur</th>\n",
              "      <th>SIM</th>\n",
              "      <th>Kode_Daerah</th>\n",
              "      <th>Sudah_Asuransi</th>\n",
              "      <th>Umur_Kendaraan</th>\n",
              "      <th>Kendaraan_Rusak</th>\n",
              "      <th>Premi</th>\n",
              "      <th>Kanal_Penjualan</th>\n",
              "      <th>Lama_Berlangganan</th>\n",
              "      <th>Tertarik</th>\n",
              "    </tr>\n",
              "  </thead>\n",
              "  <tbody>\n",
              "    <tr>\n",
              "      <th>count</th>\n",
              "      <td>47639.000000</td>\n",
              "      <td>47639.000000</td>\n",
              "      <td>47639.000000</td>\n",
              "      <td>47639.000000</td>\n",
              "      <td>47639.000000</td>\n",
              "      <td>47639.000000</td>\n",
              "      <td>47639.000000</td>\n",
              "      <td>47639.000000</td>\n",
              "      <td>47639.000000</td>\n",
              "      <td>47639.000000</td>\n",
              "      <td>47639.000000</td>\n",
              "    </tr>\n",
              "    <tr>\n",
              "      <th>mean</th>\n",
              "      <td>0.456958</td>\n",
              "      <td>38.815466</td>\n",
              "      <td>0.997922</td>\n",
              "      <td>26.331514</td>\n",
              "      <td>0.457608</td>\n",
              "      <td>0.517517</td>\n",
              "      <td>0.495350</td>\n",
              "      <td>30626.481202</td>\n",
              "      <td>112.180566</td>\n",
              "      <td>154.447574</td>\n",
              "      <td>0.123029</td>\n",
              "    </tr>\n",
              "    <tr>\n",
              "      <th>std</th>\n",
              "      <td>0.498149</td>\n",
              "      <td>15.548817</td>\n",
              "      <td>0.045540</td>\n",
              "      <td>13.213353</td>\n",
              "      <td>0.498205</td>\n",
              "      <td>0.576947</td>\n",
              "      <td>0.499984</td>\n",
              "      <td>17404.792248</td>\n",
              "      <td>54.162703</td>\n",
              "      <td>83.642137</td>\n",
              "      <td>0.328474</td>\n",
              "    </tr>\n",
              "    <tr>\n",
              "      <th>min</th>\n",
              "      <td>0.000000</td>\n",
              "      <td>20.000000</td>\n",
              "      <td>0.000000</td>\n",
              "      <td>0.000000</td>\n",
              "      <td>0.000000</td>\n",
              "      <td>0.000000</td>\n",
              "      <td>0.000000</td>\n",
              "      <td>2630.000000</td>\n",
              "      <td>1.000000</td>\n",
              "      <td>10.000000</td>\n",
              "      <td>0.000000</td>\n",
              "    </tr>\n",
              "    <tr>\n",
              "      <th>25%</th>\n",
              "      <td>0.000000</td>\n",
              "      <td>25.000000</td>\n",
              "      <td>1.000000</td>\n",
              "      <td>15.000000</td>\n",
              "      <td>0.000000</td>\n",
              "      <td>0.000000</td>\n",
              "      <td>0.000000</td>\n",
              "      <td>24395.500000</td>\n",
              "      <td>29.000000</td>\n",
              "      <td>82.000000</td>\n",
              "      <td>0.000000</td>\n",
              "    </tr>\n",
              "    <tr>\n",
              "      <th>50%</th>\n",
              "      <td>0.000000</td>\n",
              "      <td>36.000000</td>\n",
              "      <td>1.000000</td>\n",
              "      <td>28.000000</td>\n",
              "      <td>0.000000</td>\n",
              "      <td>0.000000</td>\n",
              "      <td>0.000000</td>\n",
              "      <td>31738.000000</td>\n",
              "      <td>135.000000</td>\n",
              "      <td>155.000000</td>\n",
              "      <td>0.000000</td>\n",
              "    </tr>\n",
              "    <tr>\n",
              "      <th>75%</th>\n",
              "      <td>1.000000</td>\n",
              "      <td>49.000000</td>\n",
              "      <td>1.000000</td>\n",
              "      <td>35.000000</td>\n",
              "      <td>1.000000</td>\n",
              "      <td>1.000000</td>\n",
              "      <td>1.000000</td>\n",
              "      <td>39474.500000</td>\n",
              "      <td>152.000000</td>\n",
              "      <td>227.000000</td>\n",
              "      <td>0.000000</td>\n",
              "    </tr>\n",
              "    <tr>\n",
              "      <th>max</th>\n",
              "      <td>1.000000</td>\n",
              "      <td>85.000000</td>\n",
              "      <td>1.000000</td>\n",
              "      <td>52.000000</td>\n",
              "      <td>1.000000</td>\n",
              "      <td>2.000000</td>\n",
              "      <td>1.000000</td>\n",
              "      <td>540165.000000</td>\n",
              "      <td>163.000000</td>\n",
              "      <td>299.000000</td>\n",
              "      <td>1.000000</td>\n",
              "    </tr>\n",
              "  </tbody>\n",
              "</table>\n",
              "</div>"
            ],
            "text/plain": [
              "       Jenis_Kelamin          Umur  ...  Lama_Berlangganan      Tertarik\n",
              "count   47639.000000  47639.000000  ...       47639.000000  47639.000000\n",
              "mean        0.456958     38.815466  ...         154.447574      0.123029\n",
              "std         0.498149     15.548817  ...          83.642137      0.328474\n",
              "min         0.000000     20.000000  ...          10.000000      0.000000\n",
              "25%         0.000000     25.000000  ...          82.000000      0.000000\n",
              "50%         0.000000     36.000000  ...         155.000000      0.000000\n",
              "75%         1.000000     49.000000  ...         227.000000      0.000000\n",
              "max         1.000000     85.000000  ...         299.000000      1.000000\n",
              "\n",
              "[8 rows x 11 columns]"
            ]
          },
          "metadata": {
            "tags": []
          },
          "execution_count": 16
        }
      ]
    },
    {
      "cell_type": "markdown",
      "metadata": {
        "id": "MK0rhFxNWprw"
      },
      "source": [
        "# **Menghandle outlier**"
      ]
    },
    {
      "cell_type": "code",
      "metadata": {
        "colab": {
          "base_uri": "https://localhost:8080/",
          "height": 298
        },
        "id": "gsMiWMXUwh8t",
        "outputId": "588c571c-6fda-43a2-da78-f46fd49b3222"
      },
      "source": [
        "#mengecek data outlier\n",
        "boxplot = kendaraan_train_df.boxplot(figsize=(22,8), rot=90)"
      ],
      "execution_count": null,
      "outputs": [
        {
          "output_type": "display_data",
          "data": {
            "image/png": "[encoded data removed]",
            "text/plain": [
              "<Figure size 1584x576 with 1 Axes>"
            ]
          },
          "metadata": {
            "tags": [],
            "needs_background": "light"
          }
        }
      ]
    },
    {
      "cell_type": "code",
      "metadata": {
        "colab": {
          "base_uri": "https://localhost:8080/",
          "height": 298
        },
        "id": "3BYhnJGcwi13",
        "outputId": "4d7684b1-6ad6-4339-a9e5-c4cc2b9adb8c"
      },
      "source": [
        "#mengecek data outlier\n",
        "boxplot = kendaraan_test_df.boxplot(figsize=(22,8), rot=90)"
      ],
      "execution_count": null,
      "outputs": [
        {
          "output_type": "display_data",
          "data": {
            "image/png": "[encoded data removed]",
            "text/plain": [
              "<Figure size 1584x576 with 1 Axes>"
            ]
          },
          "metadata": {
            "tags": [],
            "needs_background": "light"
          }
        }
      ]
    },
    {
      "cell_type": "code",
      "metadata": {
        "colab": {
          "base_uri": "https://localhost:8080/",
          "height": 422
        },
        "id": "msAt-JVNvmUL",
        "outputId": "81616629-e495-414a-ab0c-bfb437583741"
      },
      "source": [
        "#mengambil data outlier pada dataset train\n",
        "kendaraan_train_outlier = kendaraan_train_df[(kendaraan_train_df.Premi <= 16619.3) | (kendaraan_train_df.Premi >= 58267.5)]\n",
        "kendaraan_train_outlier"
      ],
      "execution_count": null,
      "outputs": [
        {
          "output_type": "execute_result",
          "data": {
            "text/html": [
              "<div>\n",
              "<style scoped>\n",
              "    .dataframe tbody tr th:only-of-type {\n",
              "        vertical-align: middle;\n",
              "    }\n",
              "\n",
              "    .dataframe tbody tr th {\n",
              "        vertical-align: top;\n",
              "    }\n",
              "\n",
              "    .dataframe thead th {\n",
              "        text-align: right;\n",
              "    }\n",
              "</style>\n",
              "<table border=\"1\" class=\"dataframe\">\n",
              "  <thead>\n",
              "    <tr style=\"text-align: right;\">\n",
              "      <th></th>\n",
              "      <th>Jenis_Kelamin</th>\n",
              "      <th>Umur</th>\n",
              "      <th>SIM</th>\n",
              "      <th>Kode_Daerah</th>\n",
              "      <th>Sudah_Asuransi</th>\n",
              "      <th>Umur_Kendaraan</th>\n",
              "      <th>Kendaraan_Rusak</th>\n",
              "      <th>Premi</th>\n",
              "      <th>Kanal_Penjualan</th>\n",
              "      <th>Lama_Berlangganan</th>\n",
              "      <th>Tertarik</th>\n",
              "    </tr>\n",
              "  </thead>\n",
              "  <tbody>\n",
              "    <tr>\n",
              "      <th>3</th>\n",
              "      <td>1</td>\n",
              "      <td>58.0</td>\n",
              "      <td>1.0</td>\n",
              "      <td>48.0</td>\n",
              "      <td>0.0</td>\n",
              "      <td>0</td>\n",
              "      <td>1</td>\n",
              "      <td>2630.0</td>\n",
              "      <td>124.0</td>\n",
              "      <td>63.0</td>\n",
              "      <td>0</td>\n",
              "    </tr>\n",
              "    <tr>\n",
              "      <th>9</th>\n",
              "      <td>0</td>\n",
              "      <td>54.0</td>\n",
              "      <td>1.0</td>\n",
              "      <td>29.0</td>\n",
              "      <td>0.0</td>\n",
              "      <td>2</td>\n",
              "      <td>0</td>\n",
              "      <td>88883.0</td>\n",
              "      <td>124.0</td>\n",
              "      <td>28.0</td>\n",
              "      <td>1</td>\n",
              "    </tr>\n",
              "    <tr>\n",
              "      <th>15</th>\n",
              "      <td>0</td>\n",
              "      <td>31.0</td>\n",
              "      <td>1.0</td>\n",
              "      <td>8.0</td>\n",
              "      <td>0.0</td>\n",
              "      <td>1</td>\n",
              "      <td>0</td>\n",
              "      <td>2630.0</td>\n",
              "      <td>152.0</td>\n",
              "      <td>132.0</td>\n",
              "      <td>0</td>\n",
              "    </tr>\n",
              "    <tr>\n",
              "      <th>19</th>\n",
              "      <td>0</td>\n",
              "      <td>52.0</td>\n",
              "      <td>1.0</td>\n",
              "      <td>28.0</td>\n",
              "      <td>0.0</td>\n",
              "      <td>2</td>\n",
              "      <td>0</td>\n",
              "      <td>2630.0</td>\n",
              "      <td>124.0</td>\n",
              "      <td>11.0</td>\n",
              "      <td>1</td>\n",
              "    </tr>\n",
              "    <tr>\n",
              "      <th>34</th>\n",
              "      <td>0</td>\n",
              "      <td>34.0</td>\n",
              "      <td>1.0</td>\n",
              "      <td>36.0</td>\n",
              "      <td>0.0</td>\n",
              "      <td>0</td>\n",
              "      <td>0</td>\n",
              "      <td>2630.0</td>\n",
              "      <td>156.0</td>\n",
              "      <td>214.0</td>\n",
              "      <td>1</td>\n",
              "    </tr>\n",
              "    <tr>\n",
              "      <th>...</th>\n",
              "      <td>...</td>\n",
              "      <td>...</td>\n",
              "      <td>...</td>\n",
              "      <td>...</td>\n",
              "      <td>...</td>\n",
              "      <td>...</td>\n",
              "      <td>...</td>\n",
              "      <td>...</td>\n",
              "      <td>...</td>\n",
              "      <td>...</td>\n",
              "      <td>...</td>\n",
              "    </tr>\n",
              "    <tr>\n",
              "      <th>285788</th>\n",
              "      <td>0</td>\n",
              "      <td>77.0</td>\n",
              "      <td>1.0</td>\n",
              "      <td>28.0</td>\n",
              "      <td>1.0</td>\n",
              "      <td>0</td>\n",
              "      <td>1</td>\n",
              "      <td>69856.0</td>\n",
              "      <td>26.0</td>\n",
              "      <td>125.0</td>\n",
              "      <td>0</td>\n",
              "    </tr>\n",
              "    <tr>\n",
              "      <th>285794</th>\n",
              "      <td>0</td>\n",
              "      <td>50.0</td>\n",
              "      <td>1.0</td>\n",
              "      <td>28.0</td>\n",
              "      <td>1.0</td>\n",
              "      <td>0</td>\n",
              "      <td>1</td>\n",
              "      <td>2630.0</td>\n",
              "      <td>124.0</td>\n",
              "      <td>278.0</td>\n",
              "      <td>0</td>\n",
              "    </tr>\n",
              "    <tr>\n",
              "      <th>285795</th>\n",
              "      <td>0</td>\n",
              "      <td>46.0</td>\n",
              "      <td>1.0</td>\n",
              "      <td>17.0</td>\n",
              "      <td>0.0</td>\n",
              "      <td>0</td>\n",
              "      <td>0</td>\n",
              "      <td>2630.0</td>\n",
              "      <td>124.0</td>\n",
              "      <td>56.0</td>\n",
              "      <td>0</td>\n",
              "    </tr>\n",
              "    <tr>\n",
              "      <th>285808</th>\n",
              "      <td>0</td>\n",
              "      <td>25.0</td>\n",
              "      <td>1.0</td>\n",
              "      <td>36.0</td>\n",
              "      <td>1.0</td>\n",
              "      <td>1</td>\n",
              "      <td>1</td>\n",
              "      <td>2630.0</td>\n",
              "      <td>152.0</td>\n",
              "      <td>39.0</td>\n",
              "      <td>0</td>\n",
              "    </tr>\n",
              "    <tr>\n",
              "      <th>285822</th>\n",
              "      <td>0</td>\n",
              "      <td>42.0</td>\n",
              "      <td>1.0</td>\n",
              "      <td>0.0</td>\n",
              "      <td>0.0</td>\n",
              "      <td>0</td>\n",
              "      <td>1</td>\n",
              "      <td>2630.0</td>\n",
              "      <td>55.0</td>\n",
              "      <td>230.0</td>\n",
              "      <td>0</td>\n",
              "    </tr>\n",
              "  </tbody>\n",
              "</table>\n",
              "<p>57209 rows × 11 columns</p>\n",
              "</div>"
            ],
            "text/plain": [
              "        Jenis_Kelamin  Umur  SIM  ...  Kanal_Penjualan  Lama_Berlangganan  Tertarik\n",
              "3                   1  58.0  1.0  ...            124.0               63.0         0\n",
              "9                   0  54.0  1.0  ...            124.0               28.0         1\n",
              "15                  0  31.0  1.0  ...            152.0              132.0         0\n",
              "19                  0  52.0  1.0  ...            124.0               11.0         1\n",
              "34                  0  34.0  1.0  ...            156.0              214.0         1\n",
              "...               ...   ...  ...  ...              ...                ...       ...\n",
              "285788              0  77.0  1.0  ...             26.0              125.0         0\n",
              "285794              0  50.0  1.0  ...            124.0              278.0         0\n",
              "285795              0  46.0  1.0  ...            124.0               56.0         0\n",
              "285808              0  25.0  1.0  ...            152.0               39.0         0\n",
              "285822              0  42.0  1.0  ...             55.0              230.0         0\n",
              "\n",
              "[57209 rows x 11 columns]"
            ]
          },
          "metadata": {
            "tags": []
          },
          "execution_count": 19
        }
      ]
    },
    {
      "cell_type": "code",
      "metadata": {
        "colab": {
          "base_uri": "https://localhost:8080/",
          "height": 422
        },
        "id": "1IWIEi3MvHZj",
        "outputId": "5998806a-6e29-4f9b-f466-c8f10ab37688"
      },
      "source": [
        "#mengambil data outlier pada dataset test\n",
        "kendaraan_test_outlier = kendaraan_test_df[(kendaraan_test_df.Premi <= 16243.6) | (kendaraan_test_df.Premi >= 59211.75)]\n",
        "kendaraan_test_outlier"
      ],
      "execution_count": null,
      "outputs": [
        {
          "output_type": "execute_result",
          "data": {
            "text/html": [
              "<div>\n",
              "<style scoped>\n",
              "    .dataframe tbody tr th:only-of-type {\n",
              "        vertical-align: middle;\n",
              "    }\n",
              "\n",
              "    .dataframe tbody tr th {\n",
              "        vertical-align: top;\n",
              "    }\n",
              "\n",
              "    .dataframe thead th {\n",
              "        text-align: right;\n",
              "    }\n",
              "</style>\n",
              "<table border=\"1\" class=\"dataframe\">\n",
              "  <thead>\n",
              "    <tr style=\"text-align: right;\">\n",
              "      <th></th>\n",
              "      <th>Jenis_Kelamin</th>\n",
              "      <th>Umur</th>\n",
              "      <th>SIM</th>\n",
              "      <th>Kode_Daerah</th>\n",
              "      <th>Sudah_Asuransi</th>\n",
              "      <th>Umur_Kendaraan</th>\n",
              "      <th>Kendaraan_Rusak</th>\n",
              "      <th>Premi</th>\n",
              "      <th>Kanal_Penjualan</th>\n",
              "      <th>Lama_Berlangganan</th>\n",
              "      <th>Tertarik</th>\n",
              "    </tr>\n",
              "  </thead>\n",
              "  <tbody>\n",
              "    <tr>\n",
              "      <th>2</th>\n",
              "      <td>0</td>\n",
              "      <td>24</td>\n",
              "      <td>1</td>\n",
              "      <td>28</td>\n",
              "      <td>1</td>\n",
              "      <td>1</td>\n",
              "      <td>1</td>\n",
              "      <td>110479</td>\n",
              "      <td>152</td>\n",
              "      <td>62</td>\n",
              "      <td>0</td>\n",
              "    </tr>\n",
              "    <tr>\n",
              "      <th>6</th>\n",
              "      <td>1</td>\n",
              "      <td>24</td>\n",
              "      <td>1</td>\n",
              "      <td>28</td>\n",
              "      <td>1</td>\n",
              "      <td>1</td>\n",
              "      <td>1</td>\n",
              "      <td>65801</td>\n",
              "      <td>152</td>\n",
              "      <td>160</td>\n",
              "      <td>0</td>\n",
              "    </tr>\n",
              "    <tr>\n",
              "      <th>9</th>\n",
              "      <td>1</td>\n",
              "      <td>43</td>\n",
              "      <td>1</td>\n",
              "      <td>28</td>\n",
              "      <td>0</td>\n",
              "      <td>0</td>\n",
              "      <td>0</td>\n",
              "      <td>65380</td>\n",
              "      <td>25</td>\n",
              "      <td>41</td>\n",
              "      <td>1</td>\n",
              "    </tr>\n",
              "    <tr>\n",
              "      <th>10</th>\n",
              "      <td>1</td>\n",
              "      <td>53</td>\n",
              "      <td>1</td>\n",
              "      <td>28</td>\n",
              "      <td>1</td>\n",
              "      <td>0</td>\n",
              "      <td>1</td>\n",
              "      <td>80184</td>\n",
              "      <td>26</td>\n",
              "      <td>30</td>\n",
              "      <td>0</td>\n",
              "    </tr>\n",
              "    <tr>\n",
              "      <th>15</th>\n",
              "      <td>0</td>\n",
              "      <td>21</td>\n",
              "      <td>1</td>\n",
              "      <td>36</td>\n",
              "      <td>1</td>\n",
              "      <td>1</td>\n",
              "      <td>1</td>\n",
              "      <td>2630</td>\n",
              "      <td>152</td>\n",
              "      <td>93</td>\n",
              "      <td>0</td>\n",
              "    </tr>\n",
              "    <tr>\n",
              "      <th>...</th>\n",
              "      <td>...</td>\n",
              "      <td>...</td>\n",
              "      <td>...</td>\n",
              "      <td>...</td>\n",
              "      <td>...</td>\n",
              "      <td>...</td>\n",
              "      <td>...</td>\n",
              "      <td>...</td>\n",
              "      <td>...</td>\n",
              "      <td>...</td>\n",
              "      <td>...</td>\n",
              "    </tr>\n",
              "    <tr>\n",
              "      <th>47625</th>\n",
              "      <td>0</td>\n",
              "      <td>77</td>\n",
              "      <td>1</td>\n",
              "      <td>35</td>\n",
              "      <td>0</td>\n",
              "      <td>0</td>\n",
              "      <td>0</td>\n",
              "      <td>2630</td>\n",
              "      <td>3</td>\n",
              "      <td>57</td>\n",
              "      <td>0</td>\n",
              "    </tr>\n",
              "    <tr>\n",
              "      <th>47626</th>\n",
              "      <td>0</td>\n",
              "      <td>53</td>\n",
              "      <td>1</td>\n",
              "      <td>28</td>\n",
              "      <td>0</td>\n",
              "      <td>0</td>\n",
              "      <td>0</td>\n",
              "      <td>59716</td>\n",
              "      <td>26</td>\n",
              "      <td>51</td>\n",
              "      <td>1</td>\n",
              "    </tr>\n",
              "    <tr>\n",
              "      <th>47630</th>\n",
              "      <td>1</td>\n",
              "      <td>73</td>\n",
              "      <td>1</td>\n",
              "      <td>28</td>\n",
              "      <td>0</td>\n",
              "      <td>0</td>\n",
              "      <td>0</td>\n",
              "      <td>2630</td>\n",
              "      <td>163</td>\n",
              "      <td>38</td>\n",
              "      <td>1</td>\n",
              "    </tr>\n",
              "    <tr>\n",
              "      <th>47635</th>\n",
              "      <td>0</td>\n",
              "      <td>41</td>\n",
              "      <td>1</td>\n",
              "      <td>15</td>\n",
              "      <td>0</td>\n",
              "      <td>0</td>\n",
              "      <td>0</td>\n",
              "      <td>2630</td>\n",
              "      <td>157</td>\n",
              "      <td>232</td>\n",
              "      <td>0</td>\n",
              "    </tr>\n",
              "    <tr>\n",
              "      <th>47638</th>\n",
              "      <td>0</td>\n",
              "      <td>52</td>\n",
              "      <td>1</td>\n",
              "      <td>31</td>\n",
              "      <td>0</td>\n",
              "      <td>0</td>\n",
              "      <td>1</td>\n",
              "      <td>2630</td>\n",
              "      <td>124</td>\n",
              "      <td>170</td>\n",
              "      <td>0</td>\n",
              "    </tr>\n",
              "  </tbody>\n",
              "</table>\n",
              "<p>9851 rows × 11 columns</p>\n",
              "</div>"
            ],
            "text/plain": [
              "       Jenis_Kelamin  Umur  SIM  ...  Kanal_Penjualan  Lama_Berlangganan  Tertarik\n",
              "2                  0    24    1  ...              152                 62         0\n",
              "6                  1    24    1  ...              152                160         0\n",
              "9                  1    43    1  ...               25                 41         1\n",
              "10                 1    53    1  ...               26                 30         0\n",
              "15                 0    21    1  ...              152                 93         0\n",
              "...              ...   ...  ...  ...              ...                ...       ...\n",
              "47625              0    77    1  ...                3                 57         0\n",
              "47626              0    53    1  ...               26                 51         1\n",
              "47630              1    73    1  ...              163                 38         1\n",
              "47635              0    41    1  ...              157                232         0\n",
              "47638              0    52    1  ...              124                170         0\n",
              "\n",
              "[9851 rows x 11 columns]"
            ]
          },
          "metadata": {
            "tags": []
          },
          "execution_count": 20
        }
      ]
    },
    {
      "cell_type": "code",
      "metadata": {
        "colab": {
          "base_uri": "https://localhost:8080/"
        },
        "id": "wnDPERI2zujR",
        "outputId": "04337424-968d-42ee-d1a1-49bde1455a9a"
      },
      "source": [
        "# menghandle kolom premi, untuk kolom sim dan tertarik tidak dilakukan handle outlier karena mereka adalah dataset categori kemungkinan data tersebut memiliki pembagian yg tidak rata, \n",
        "# contohnya pada kolom sim, ada yg memiliki sim dan ada yg tidak memiliki sim keduanya memiliki perbandingan jumlah data yg berbeda misalkan belasan dengan ratusan\n",
        "# nilai minimum = 16263.6 (premi 25% / 1.5), maxmimum = 59211.75 (premi 75% x 1,5)\n",
        "\n",
        "# dilakukannya mereplace data outlier\n",
        "# pada data nilai outlier diatas maximum maka diganti dengan data nilai maximum (premi 75% x 1,5)\n",
        "# pada data nilai outlier dibawah minimum maka diganti dengan data nilai minimum (premi 25% / 1.5)\n",
        "kendaraan_test_df['Premi'].loc[kendaraan_test_df['Premi'] <= 16263.6] = 16263.6\n",
        "kendaraan_test_df['Premi'].loc[kendaraan_test_df['Premi'] >= 59211.75] = 59211.75\n",
        "\n",
        "kendaraan_train_df['Premi'].loc[kendaraan_train_df['Premi'] <= 16619.3] = 16619.3\n",
        "kendaraan_train_df['Premi'].loc[kendaraan_train_df['Premi'] >= 43267.5] = 43267.5"
      ],
      "execution_count": null,
      "outputs": [
        {
          "output_type": "stream",
          "text": [
            "/usr/local/lib/python3.7/dist-packages/pandas/core/indexing.py:670: SettingWithCopyWarning: \n",
            "A value is trying to be set on a copy of a slice from a DataFrame\n",
            "\n",
            "See the caveats in the documentation: https://pandas.pydata.org/pandas-docs/stable/user_guide/indexing.html#returning-a-view-versus-a-copy\n",
            "  iloc._setitem_with_indexer(indexer, value)\n",
            "/usr/local/lib/python3.7/dist-packages/pandas/core/indexing.py:670: SettingWithCopyWarning: \n",
            "A value is trying to be set on a copy of a slice from a DataFrame\n",
            "\n",
            "See the caveats in the documentation: https://pandas.pydata.org/pandas-docs/stable/user_guide/indexing.html#returning-a-view-versus-a-copy\n",
            "  iloc._setitem_with_indexer(indexer, value)\n",
            "/usr/local/lib/python3.7/dist-packages/pandas/core/indexing.py:670: SettingWithCopyWarning: \n",
            "A value is trying to be set on a copy of a slice from a DataFrame\n",
            "\n",
            "See the caveats in the documentation: https://pandas.pydata.org/pandas-docs/stable/user_guide/indexing.html#returning-a-view-versus-a-copy\n",
            "  iloc._setitem_with_indexer(indexer, value)\n"
          ],
          "name": "stderr"
        }
      ]
    },
    {
      "cell_type": "markdown",
      "metadata": {
        "id": "WURIDsBNBWOf"
      },
      "source": [
        "# **Normalisasi**"
      ]
    },
    {
      "cell_type": "code",
      "metadata": {
        "id": "W0PiqFCIJn1I"
      },
      "source": [
        "#normalisasi dengan metode min max, Nilai baru dihitung sebagai selisih antara nilai saat ini dan nilai min, dibagi dengan kisaran nilai kolom\n",
        "kendaraan_train_normalisasi = kendaraan_train_df.loc[:,[\"Umur\", \"Kode_Daerah\", \"Umur_Kendaraan\", \n",
        "                                                        \"Premi\", \"Kanal_Penjualan\", \"Lama_Berlangganan\"]].apply(lambda x: (x - np.min(x)) / (np.max(x) - np.min(x)))\n",
        "kendaraan_train_normalisasi.insert(0,\"Jenis_Kelamin\",kendaraan_train_df[\"Jenis_Kelamin\"])\n",
        "kendaraan_train_normalisasi.insert(2,\"SIM\",kendaraan_train_df[\"SIM\"])\n",
        "kendaraan_train_normalisasi.insert(4,\"Sudah_Asuransi\",kendaraan_train_df[\"Sudah_Asuransi\"])\n",
        "kendaraan_train_normalisasi.insert(6,\"Kendaraan_Rusak\",kendaraan_train_df[\"Kendaraan_Rusak\"])\n",
        "kendaraan_train_normalisasi.insert(10,\"Tertarik\",kendaraan_train_df[\"Tertarik\"])"
      ],
      "execution_count": null,
      "outputs": []
    },
    {
      "cell_type": "code",
      "metadata": {
        "colab": {
          "base_uri": "https://localhost:8080/",
          "height": 422
        },
        "id": "mHa9ccv9tsGd",
        "outputId": "00a70e33-0006-4ea0-e3fc-35d537ced5d6"
      },
      "source": [
        "kendaraan_train_normalisasi"
      ],
      "execution_count": null,
      "outputs": [
        {
          "output_type": "execute_result",
          "data": {
            "text/html": [
              "<div>\n",
              "<style scoped>\n",
              "    .dataframe tbody tr th:only-of-type {\n",
              "        vertical-align: middle;\n",
              "    }\n",
              "\n",
              "    .dataframe tbody tr th {\n",
              "        vertical-align: top;\n",
              "    }\n",
              "\n",
              "    .dataframe thead th {\n",
              "        text-align: right;\n",
              "    }\n",
              "</style>\n",
              "<table border=\"1\" class=\"dataframe\">\n",
              "  <thead>\n",
              "    <tr style=\"text-align: right;\">\n",
              "      <th></th>\n",
              "      <th>Jenis_Kelamin</th>\n",
              "      <th>Umur</th>\n",
              "      <th>SIM</th>\n",
              "      <th>Kode_Daerah</th>\n",
              "      <th>Sudah_Asuransi</th>\n",
              "      <th>Umur_Kendaraan</th>\n",
              "      <th>Kendaraan_Rusak</th>\n",
              "      <th>Premi</th>\n",
              "      <th>Kanal_Penjualan</th>\n",
              "      <th>Lama_Berlangganan</th>\n",
              "      <th>Tertarik</th>\n",
              "    </tr>\n",
              "  </thead>\n",
              "  <tbody>\n",
              "    <tr>\n",
              "      <th>0</th>\n",
              "      <td>1</td>\n",
              "      <td>0.153846</td>\n",
              "      <td>1.0</td>\n",
              "      <td>0.634615</td>\n",
              "      <td>1.0</td>\n",
              "      <td>0.5</td>\n",
              "      <td>1</td>\n",
              "      <td>0.428160</td>\n",
              "      <td>0.932099</td>\n",
              "      <td>0.301038</td>\n",
              "      <td>0</td>\n",
              "    </tr>\n",
              "    <tr>\n",
              "      <th>1</th>\n",
              "      <td>0</td>\n",
              "      <td>0.430769</td>\n",
              "      <td>1.0</td>\n",
              "      <td>0.750000</td>\n",
              "      <td>0.0</td>\n",
              "      <td>1.0</td>\n",
              "      <td>0</td>\n",
              "      <td>0.344515</td>\n",
              "      <td>0.172840</td>\n",
              "      <td>0.512111</td>\n",
              "      <td>0</td>\n",
              "    </tr>\n",
              "    <tr>\n",
              "      <th>2</th>\n",
              "      <td>0</td>\n",
              "      <td>0.015385</td>\n",
              "      <td>1.0</td>\n",
              "      <td>0.884615</td>\n",
              "      <td>1.0</td>\n",
              "      <td>0.5</td>\n",
              "      <td>1</td>\n",
              "      <td>0.604682</td>\n",
              "      <td>0.981481</td>\n",
              "      <td>0.377163</td>\n",
              "      <td>0</td>\n",
              "    </tr>\n",
              "    <tr>\n",
              "      <th>3</th>\n",
              "      <td>1</td>\n",
              "      <td>0.584615</td>\n",
              "      <td>1.0</td>\n",
              "      <td>0.923077</td>\n",
              "      <td>0.0</td>\n",
              "      <td>0.0</td>\n",
              "      <td>1</td>\n",
              "      <td>0.000000</td>\n",
              "      <td>0.759259</td>\n",
              "      <td>0.183391</td>\n",
              "      <td>0</td>\n",
              "    </tr>\n",
              "    <tr>\n",
              "      <th>4</th>\n",
              "      <td>0</td>\n",
              "      <td>0.461538</td>\n",
              "      <td>1.0</td>\n",
              "      <td>0.673077</td>\n",
              "      <td>0.0</td>\n",
              "      <td>1.0</td>\n",
              "      <td>0</td>\n",
              "      <td>0.684388</td>\n",
              "      <td>0.537037</td>\n",
              "      <td>0.636678</td>\n",
              "      <td>0</td>\n",
              "    </tr>\n",
              "    <tr>\n",
              "      <th>...</th>\n",
              "      <td>...</td>\n",
              "      <td>...</td>\n",
              "      <td>...</td>\n",
              "      <td>...</td>\n",
              "      <td>...</td>\n",
              "      <td>...</td>\n",
              "      <td>...</td>\n",
              "      <td>...</td>\n",
              "      <td>...</td>\n",
              "      <td>...</td>\n",
              "      <td>...</td>\n",
              "    </tr>\n",
              "    <tr>\n",
              "      <th>285826</th>\n",
              "      <td>1</td>\n",
              "      <td>0.046154</td>\n",
              "      <td>1.0</td>\n",
              "      <td>0.076923</td>\n",
              "      <td>1.0</td>\n",
              "      <td>0.5</td>\n",
              "      <td>1</td>\n",
              "      <td>0.351570</td>\n",
              "      <td>0.932099</td>\n",
              "      <td>0.716263</td>\n",
              "      <td>0</td>\n",
              "    </tr>\n",
              "    <tr>\n",
              "      <th>285827</th>\n",
              "      <td>1</td>\n",
              "      <td>0.015385</td>\n",
              "      <td>1.0</td>\n",
              "      <td>0.884615</td>\n",
              "      <td>1.0</td>\n",
              "      <td>0.5</td>\n",
              "      <td>1</td>\n",
              "      <td>1.000000</td>\n",
              "      <td>0.932099</td>\n",
              "      <td>0.138408</td>\n",
              "      <td>0</td>\n",
              "    </tr>\n",
              "    <tr>\n",
              "      <th>285828</th>\n",
              "      <td>1</td>\n",
              "      <td>0.046154</td>\n",
              "      <td>1.0</td>\n",
              "      <td>0.961538</td>\n",
              "      <td>1.0</td>\n",
              "      <td>0.5</td>\n",
              "      <td>1</td>\n",
              "      <td>1.000000</td>\n",
              "      <td>0.932099</td>\n",
              "      <td>0.747405</td>\n",
              "      <td>0</td>\n",
              "    </tr>\n",
              "    <tr>\n",
              "      <th>285829</th>\n",
              "      <td>0</td>\n",
              "      <td>0.738462</td>\n",
              "      <td>1.0</td>\n",
              "      <td>0.134615</td>\n",
              "      <td>1.0</td>\n",
              "      <td>0.0</td>\n",
              "      <td>1</td>\n",
              "      <td>0.521000</td>\n",
              "      <td>0.759259</td>\n",
              "      <td>0.899654</td>\n",
              "      <td>0</td>\n",
              "    </tr>\n",
              "    <tr>\n",
              "      <th>285830</th>\n",
              "      <td>0</td>\n",
              "      <td>0.384615</td>\n",
              "      <td>1.0</td>\n",
              "      <td>0.538462</td>\n",
              "      <td>0.0</td>\n",
              "      <td>0.0</td>\n",
              "      <td>0</td>\n",
              "      <td>0.745292</td>\n",
              "      <td>0.154321</td>\n",
              "      <td>0.117647</td>\n",
              "      <td>0</td>\n",
              "    </tr>\n",
              "  </tbody>\n",
              "</table>\n",
              "<p>285831 rows × 11 columns</p>\n",
              "</div>"
            ],
            "text/plain": [
              "        Jenis_Kelamin      Umur  ...  Lama_Berlangganan  Tertarik\n",
              "0                   1  0.153846  ...           0.301038         0\n",
              "1                   0  0.430769  ...           0.512111         0\n",
              "2                   0  0.015385  ...           0.377163         0\n",
              "3                   1  0.584615  ...           0.183391         0\n",
              "4                   0  0.461538  ...           0.636678         0\n",
              "...               ...       ...  ...                ...       ...\n",
              "285826              1  0.046154  ...           0.716263         0\n",
              "285827              1  0.015385  ...           0.138408         0\n",
              "285828              1  0.046154  ...           0.747405         0\n",
              "285829              0  0.738462  ...           0.899654         0\n",
              "285830              0  0.384615  ...           0.117647         0\n",
              "\n",
              "[285831 rows x 11 columns]"
            ]
          },
          "metadata": {
            "tags": []
          },
          "execution_count": 23
        }
      ]
    },
    {
      "cell_type": "code",
      "metadata": {
        "id": "RDocJ_HuJw4i"
      },
      "source": [
        "#normalisasi dengan metode min max, Nilai baru dihitung sebagai selisih antara nilai saat ini dan nilai min, dibagi dengan kisaran nilai kolom\n",
        "kendaraan_test_normalisasi = kendaraan_test_df.loc[:,[\"Umur\", \"Kode_Daerah\", \"Umur_Kendaraan\", \"Premi\", \"Kanal_Penjualan\", \"Lama_Berlangganan\"]].apply(lambda x: (x - np.min(x)) / (np.max(x) - np.min(x)))\n",
        "kendaraan_test_normalisasi.insert(0,\"Jenis_Kelamin\",kendaraan_test_df[\"Jenis_Kelamin\"])\n",
        "kendaraan_test_normalisasi.insert(2,\"SIM\",kendaraan_test_df[\"SIM\"])\n",
        "kendaraan_test_normalisasi.insert(4,\"Sudah_Asuransi\",kendaraan_test_df[\"Sudah_Asuransi\"])\n",
        "kendaraan_test_normalisasi.insert(6,\"Kendaraan_Rusak\",kendaraan_test_df[\"Kendaraan_Rusak\"])\n",
        "kendaraan_test_normalisasi.insert(10,\"Tertarik\",kendaraan_test_df[\"Tertarik\"])"
      ],
      "execution_count": null,
      "outputs": []
    },
    {
      "cell_type": "code",
      "metadata": {
        "colab": {
          "base_uri": "https://localhost:8080/",
          "height": 422
        },
        "id": "TuZDSNtjxXki",
        "outputId": "2f3955ea-56e7-4383-a370-7822f0d6ba9a"
      },
      "source": [
        "kendaraan_test_normalisasi"
      ],
      "execution_count": null,
      "outputs": [
        {
          "output_type": "execute_result",
          "data": {
            "text/html": [
              "<div>\n",
              "<style scoped>\n",
              "    .dataframe tbody tr th:only-of-type {\n",
              "        vertical-align: middle;\n",
              "    }\n",
              "\n",
              "    .dataframe tbody tr th {\n",
              "        vertical-align: top;\n",
              "    }\n",
              "\n",
              "    .dataframe thead th {\n",
              "        text-align: right;\n",
              "    }\n",
              "</style>\n",
              "<table border=\"1\" class=\"dataframe\">\n",
              "  <thead>\n",
              "    <tr style=\"text-align: right;\">\n",
              "      <th></th>\n",
              "      <th>Jenis_Kelamin</th>\n",
              "      <th>Umur</th>\n",
              "      <th>SIM</th>\n",
              "      <th>Kode_Daerah</th>\n",
              "      <th>Sudah_Asuransi</th>\n",
              "      <th>Umur_Kendaraan</th>\n",
              "      <th>Kendaraan_Rusak</th>\n",
              "      <th>Premi</th>\n",
              "      <th>Kanal_Penjualan</th>\n",
              "      <th>Lama_Berlangganan</th>\n",
              "      <th>Tertarik</th>\n",
              "    </tr>\n",
              "  </thead>\n",
              "  <tbody>\n",
              "    <tr>\n",
              "      <th>0</th>\n",
              "      <td>1</td>\n",
              "      <td>0.446154</td>\n",
              "      <td>1</td>\n",
              "      <td>0.153846</td>\n",
              "      <td>0</td>\n",
              "      <td>0.0</td>\n",
              "      <td>0</td>\n",
              "      <td>0.714801</td>\n",
              "      <td>0.154321</td>\n",
              "      <td>0.467128</td>\n",
              "      <td>0</td>\n",
              "    </tr>\n",
              "    <tr>\n",
              "      <th>1</th>\n",
              "      <td>0</td>\n",
              "      <td>0.030769</td>\n",
              "      <td>1</td>\n",
              "      <td>0.903846</td>\n",
              "      <td>1</td>\n",
              "      <td>0.5</td>\n",
              "      <td>1</td>\n",
              "      <td>0.543921</td>\n",
              "      <td>0.932099</td>\n",
              "      <td>0.799308</td>\n",
              "      <td>0</td>\n",
              "    </tr>\n",
              "    <tr>\n",
              "      <th>2</th>\n",
              "      <td>0</td>\n",
              "      <td>0.061538</td>\n",
              "      <td>1</td>\n",
              "      <td>0.538462</td>\n",
              "      <td>1</td>\n",
              "      <td>0.5</td>\n",
              "      <td>1</td>\n",
              "      <td>1.000000</td>\n",
              "      <td>0.932099</td>\n",
              "      <td>0.179931</td>\n",
              "      <td>0</td>\n",
              "    </tr>\n",
              "    <tr>\n",
              "      <th>3</th>\n",
              "      <td>0</td>\n",
              "      <td>0.400000</td>\n",
              "      <td>1</td>\n",
              "      <td>0.153846</td>\n",
              "      <td>1</td>\n",
              "      <td>0.0</td>\n",
              "      <td>1</td>\n",
              "      <td>0.465734</td>\n",
              "      <td>0.759259</td>\n",
              "      <td>0.083045</td>\n",
              "      <td>0</td>\n",
              "    </tr>\n",
              "    <tr>\n",
              "      <th>4</th>\n",
              "      <td>0</td>\n",
              "      <td>0.230769</td>\n",
              "      <td>1</td>\n",
              "      <td>0.442308</td>\n",
              "      <td>0</td>\n",
              "      <td>0.0</td>\n",
              "      <td>0</td>\n",
              "      <td>0.249124</td>\n",
              "      <td>0.932099</td>\n",
              "      <td>0.757785</td>\n",
              "      <td>0</td>\n",
              "    </tr>\n",
              "    <tr>\n",
              "      <th>...</th>\n",
              "      <td>...</td>\n",
              "      <td>...</td>\n",
              "      <td>...</td>\n",
              "      <td>...</td>\n",
              "      <td>...</td>\n",
              "      <td>...</td>\n",
              "      <td>...</td>\n",
              "      <td>...</td>\n",
              "      <td>...</td>\n",
              "      <td>...</td>\n",
              "      <td>...</td>\n",
              "    </tr>\n",
              "    <tr>\n",
              "      <th>47634</th>\n",
              "      <td>0</td>\n",
              "      <td>0.630769</td>\n",
              "      <td>1</td>\n",
              "      <td>0.884615</td>\n",
              "      <td>0</td>\n",
              "      <td>1.0</td>\n",
              "      <td>0</td>\n",
              "      <td>0.344029</td>\n",
              "      <td>0.759259</td>\n",
              "      <td>0.197232</td>\n",
              "      <td>0</td>\n",
              "    </tr>\n",
              "    <tr>\n",
              "      <th>47635</th>\n",
              "      <td>0</td>\n",
              "      <td>0.323077</td>\n",
              "      <td>1</td>\n",
              "      <td>0.288462</td>\n",
              "      <td>0</td>\n",
              "      <td>0.0</td>\n",
              "      <td>0</td>\n",
              "      <td>0.000000</td>\n",
              "      <td>0.962963</td>\n",
              "      <td>0.768166</td>\n",
              "      <td>0</td>\n",
              "    </tr>\n",
              "    <tr>\n",
              "      <th>47636</th>\n",
              "      <td>0</td>\n",
              "      <td>0.061538</td>\n",
              "      <td>1</td>\n",
              "      <td>0.557692</td>\n",
              "      <td>1</td>\n",
              "      <td>0.5</td>\n",
              "      <td>1</td>\n",
              "      <td>0.392040</td>\n",
              "      <td>0.932099</td>\n",
              "      <td>0.695502</td>\n",
              "      <td>0</td>\n",
              "    </tr>\n",
              "    <tr>\n",
              "      <th>47637</th>\n",
              "      <td>0</td>\n",
              "      <td>0.600000</td>\n",
              "      <td>1</td>\n",
              "      <td>0.576923</td>\n",
              "      <td>0</td>\n",
              "      <td>0.0</td>\n",
              "      <td>0</td>\n",
              "      <td>0.501172</td>\n",
              "      <td>0.154321</td>\n",
              "      <td>0.792388</td>\n",
              "      <td>1</td>\n",
              "    </tr>\n",
              "    <tr>\n",
              "      <th>47638</th>\n",
              "      <td>0</td>\n",
              "      <td>0.492308</td>\n",
              "      <td>1</td>\n",
              "      <td>0.596154</td>\n",
              "      <td>0</td>\n",
              "      <td>0.0</td>\n",
              "      <td>1</td>\n",
              "      <td>0.000000</td>\n",
              "      <td>0.759259</td>\n",
              "      <td>0.553633</td>\n",
              "      <td>0</td>\n",
              "    </tr>\n",
              "  </tbody>\n",
              "</table>\n",
              "<p>47639 rows × 11 columns</p>\n",
              "</div>"
            ],
            "text/plain": [
              "       Jenis_Kelamin      Umur  ...  Lama_Berlangganan  Tertarik\n",
              "0                  1  0.446154  ...           0.467128         0\n",
              "1                  0  0.030769  ...           0.799308         0\n",
              "2                  0  0.061538  ...           0.179931         0\n",
              "3                  0  0.400000  ...           0.083045         0\n",
              "4                  0  0.230769  ...           0.757785         0\n",
              "...              ...       ...  ...                ...       ...\n",
              "47634              0  0.630769  ...           0.197232         0\n",
              "47635              0  0.323077  ...           0.768166         0\n",
              "47636              0  0.061538  ...           0.695502         0\n",
              "47637              0  0.600000  ...           0.792388         1\n",
              "47638              0  0.492308  ...           0.553633         0\n",
              "\n",
              "[47639 rows x 11 columns]"
            ]
          },
          "metadata": {
            "tags": []
          },
          "execution_count": 25
        }
      ]
    },
    {
      "cell_type": "code",
      "metadata": {
        "colab": {
          "base_uri": "https://localhost:8080/",
          "height": 302
        },
        "id": "rIYFNtjX_0iu",
        "outputId": "8a62bc12-62e9-4ca8-cb0f-04994e0be3c7"
      },
      "source": [
        "#mengecek apakah masih ada data outlier pada dataset train\n",
        "boxplot = kendaraan_train_normalisasi.boxplot(figsize=(22,8), rot=90)"
      ],
      "execution_count": null,
      "outputs": [
        {
          "output_type": "display_data",
          "data": {
            "image/png": "[encoded data removed]",
            "text/plain": [
              "<Figure size 1584x576 with 1 Axes>"
            ]
          },
          "metadata": {
            "tags": [],
            "needs_background": "light"
          }
        }
      ]
    },
    {
      "cell_type": "code",
      "metadata": {
        "colab": {
          "base_uri": "https://localhost:8080/",
          "height": 302
        },
        "id": "DV3D-YUZNDLW",
        "outputId": "ffbf7192-b424-409c-ee2e-e17af6d860f6"
      },
      "source": [
        "#mengecek apakah masih ada data outlier pada dataset train\n",
        "boxplot = kendaraan_test_normalisasi.boxplot(figsize=(22,8), rot=90)"
      ],
      "execution_count": null,
      "outputs": [
        {
          "output_type": "display_data",
          "data": {
            "image/png": "[encoded data removed]",
            "text/plain": [
              "<Figure size 1584x576 with 1 Axes>"
            ]
          },
          "metadata": {
            "tags": [],
            "needs_background": "light"
          }
        }
      ]
    },
    {
      "cell_type": "markdown",
      "metadata": {
        "id": "ThJegk7DYKoN"
      },
      "source": [
        "# **Pemodelan**"
      ]
    },
    {
      "cell_type": "markdown",
      "metadata": {
        "id": "iolElxli1MKQ"
      },
      "source": [
        "# **Klasifikasi**"
      ]
    },
    {
      "cell_type": "code",
      "metadata": {
        "id": "ppKM6v2R4YV_"
      },
      "source": [
        "#atribut biasa atau selain kelas target\n",
        "x_train = kendaraan_train_normalisasi[[\"Jenis_Kelamin\", \"Umur\", \"SIM\", \"Kode_Daerah\", \"Sudah_Asuransi\", \"Umur_Kendaraan\", \"Kendaraan_Rusak\", \"Premi\", \"Kanal_Penjualan\", \"Lama_Berlangganan\"]]\n",
        "x_test = kendaraan_test_normalisasi[[\"Jenis_Kelamin\", \"Umur\", \"SIM\", \"Kode_Daerah\", \"Sudah_Asuransi\", \"Umur_Kendaraan\", \"Kendaraan_Rusak\", \"Premi\", \"Kanal_Penjualan\", \"Lama_Berlangganan\"]]\n",
        "\n",
        "#atribut label atau kelas target\n",
        "y_train = kendaraan_train_normalisasi.loc[:,[\"Tertarik\"]]\n",
        "y_test = kendaraan_test_normalisasi.loc[:,[\"Tertarik\"]]"
      ],
      "execution_count": null,
      "outputs": []
    },
    {
      "cell_type": "markdown",
      "metadata": {
        "id": "9FMl93tf-_nh"
      },
      "source": [
        "**1. Metode KNN**"
      ]
    },
    {
      "cell_type": "code",
      "metadata": {
        "id": "9GiHiBK01Pi-",
        "colab": {
          "base_uri": "https://localhost:8080/"
        },
        "outputId": "e57980e1-98c6-4c82-fbfa-8149d10bc271"
      },
      "source": [
        "#import library KNN dari package scikit-learn\n",
        "from sklearn.neighbors import KNeighborsClassifier\n",
        "\n",
        "#menginisialisasi jumlah data terdekat dan memanggil fungsi klasifikasi KNN\n",
        "knn = KNeighborsClassifier(n_neighbors=7)\n",
        "\n",
        "#Memasukkan data training pada fungsi klasifikasi KNN\n",
        "knn.fit(x_train, y_train)\n",
        "\n",
        "#Menentukan hasil prediksi dari x_test yang disebut dengan y prediksi\n",
        "y_pred = knn.predict(x_test)"
      ],
      "execution_count": null,
      "outputs": [
        {
          "output_type": "stream",
          "text": [
            "/usr/local/lib/python3.7/dist-packages/ipykernel_launcher.py:8: DataConversionWarning: A column-vector y was passed when a 1d array was expected. Please change the shape of y to (n_samples, ), for example using ravel().\n",
            "  \n"
          ],
          "name": "stderr"
        }
      ]
    },
    {
      "cell_type": "code",
      "metadata": {
        "id": "9tvGoduP2SpY",
        "colab": {
          "base_uri": "https://localhost:8080/"
        },
        "outputId": "a3442fe1-6e17-4151-e8be-325782e44fc7"
      },
      "source": [
        "#Import scikit-learn metrics module for accuracy calculation\n",
        "from sklearn.metrics import f1_score as f1\n",
        "from sklearn.metrics import accuracy_score as acc\n",
        "from sklearn.metrics import precision_score as pr\n",
        "from sklearn.metrics import recall_score as rec\n",
        "\n",
        "# Accuracy score\n",
        "print(\"K NEIREST NEIGHBOUR\\n\")\n",
        "\n",
        "print(\"F1-SCORE \",f1(y_test,y_pred,average='macro'))\n",
        "\n",
        "print(\"ACCURACY \",acc(y_test,y_pred))\n",
        "\n",
        "print(\"PRECISION \",pr(y_test,y_pred,average='macro'))\n",
        "\n",
        "print(\"RECALL\",rec(y_test,y_pred,average='macro'))"
      ],
      "execution_count": null,
      "outputs": [
        {
          "output_type": "stream",
          "text": [
            "K NEIREST NEIGHBOUR\n",
            "\n",
            "F1-SCORE  0.5565516147523906\n",
            "ACCURACY  0.8616049875102332\n",
            "PRECISION  0.6131062475595782\n",
            "RECALL 0.5474924558991785\n"
          ],
          "name": "stdout"
        }
      ]
    },
    {
      "cell_type": "code",
      "metadata": {
        "colab": {
          "base_uri": "https://localhost:8080/"
        },
        "id": "W26tB7rY2bEC",
        "outputId": "1c3fbdc6-cc2c-445d-9e04-13e45d6ee2f4"
      },
      "source": [
        "# Dengan menggunakan metode KNN diperoleh nilai akurasi sebesar 0.86 atau 86% dengan nilai rata-rata precisision untuk klasifikasi 0 dan 1 sebesar 0.61, \n",
        "# recall sebesar 0.55, f1-score sebesar 0.56 dengan total support masing-masing 41778 untuk klasifikasi 0 \n",
        "# 5861 untuk klasifikasi 1 sehingga diperoleh total sebanyak 47639\n",
        "from sklearn.metrics import classification_report\n",
        "\n",
        "print(classification_report(y_test, y_pred))\n"
      ],
      "execution_count": null,
      "outputs": [
        {
          "output_type": "stream",
          "text": [
            "              precision    recall  f1-score   support\n",
            "\n",
            "           0       0.89      0.96      0.92     41778\n",
            "           1       0.34      0.13      0.19      5861\n",
            "\n",
            "    accuracy                           0.86     47639\n",
            "   macro avg       0.61      0.55      0.56     47639\n",
            "weighted avg       0.82      0.86      0.83     47639\n",
            "\n"
          ],
          "name": "stdout"
        }
      ]
    },
    {
      "cell_type": "markdown",
      "metadata": {
        "id": "Ut_Ia86A_M3z"
      },
      "source": [
        "**2. Metode Naive Bayes**"
      ]
    },
    {
      "cell_type": "code",
      "metadata": {
        "colab": {
          "base_uri": "https://localhost:8080/"
        },
        "id": "kMwWBuzE-8-7",
        "outputId": "89d04e10-e161-4b87-e22f-10e201e448bf"
      },
      "source": [
        "from sklearn.naive_bayes import GaussianNB\n",
        "\n",
        "#mengimport fungsi GaussianNB dari package scikit-learn.\n",
        "naive = GaussianNB()\n",
        "\n",
        "#Memasukkan data training pada fungsi klasifikasi Naive Baiyes\n",
        "naive.fit(x_train, y_train)\n",
        "\n",
        "#Menentukan hasil prediksi dari x_test yang disebut dengan y prediksi NB\n",
        "y_pred_NB = naive.predict(x_test)"
      ],
      "execution_count": null,
      "outputs": [
        {
          "output_type": "stream",
          "text": [
            "/usr/local/lib/python3.7/dist-packages/sklearn/naive_bayes.py:206: DataConversionWarning: A column-vector y was passed when a 1d array was expected. Please change the shape of y to (n_samples, ), for example using ravel().\n",
            "  y = column_or_1d(y, warn=True)\n"
          ],
          "name": "stderr"
        }
      ]
    },
    {
      "cell_type": "code",
      "metadata": {
        "colab": {
          "base_uri": "https://localhost:8080/"
        },
        "id": "wyYqxPMACa6E",
        "outputId": "fd4555bd-141a-4f62-ae35-b2774bc9a220"
      },
      "source": [
        "from sklearn.metrics import f1_score as f1\n",
        "from sklearn.metrics import accuracy_score as acc\n",
        "from sklearn.metrics import precision_score as pr\n",
        "from sklearn.metrics import recall_score as rec\n",
        "\n",
        "# Accuracy score\n",
        "print(\"NAIVE BAYES\\n\")\n",
        "\n",
        "print(\"F1-SCORE \",f1(y_test,y_pred_NB,average='macro'))\n",
        "\n",
        "print(\"ACCURACY \",acc(y_test,y_pred_NB))\n",
        "\n",
        "print(\"PRECISION \",pr(y_test,y_pred_NB,average='macro'))\n",
        "\n",
        "print(\"RECALL\",rec(y_test,y_pred_NB,average='macro'))"
      ],
      "execution_count": null,
      "outputs": [
        {
          "output_type": "stream",
          "text": [
            "NAIVE BAYES\n",
            "\n",
            "F1-SCORE  0.5710898974822878\n",
            "ACCURACY  0.6395600243497974\n",
            "PRECISION  0.6227893513996916\n",
            "RECALL 0.7839359057542794\n"
          ],
          "name": "stdout"
        }
      ]
    },
    {
      "cell_type": "code",
      "metadata": {
        "colab": {
          "base_uri": "https://localhost:8080/"
        },
        "id": "brKrCJRYIM8N",
        "outputId": "25a96bf3-232d-40d7-df79-545d119a0bcc"
      },
      "source": [
        "from sklearn.metrics import classification_report\n",
        "\n",
        "print(classification_report(y_test, y_pred_NB))"
      ],
      "execution_count": null,
      "outputs": [
        {
          "output_type": "stream",
          "text": [
            "              precision    recall  f1-score   support\n",
            "\n",
            "           0       0.99      0.59      0.74     41778\n",
            "           1       0.25      0.98      0.40      5861\n",
            "\n",
            "    accuracy                           0.64     47639\n",
            "   macro avg       0.62      0.78      0.57     47639\n",
            "weighted avg       0.90      0.64      0.70     47639\n",
            "\n"
          ],
          "name": "stdout"
        }
      ]
    },
    {
      "cell_type": "markdown",
      "metadata": {
        "id": "xyhwtCu5AzaE"
      },
      "source": [
        "**3. Metode Random Forest**"
      ]
    },
    {
      "cell_type": "code",
      "metadata": {
        "colab": {
          "base_uri": "https://localhost:8080/"
        },
        "id": "Y0YX6ZBBB4rQ",
        "outputId": "f77708fd-8cff-47ae-e6bd-137743d70daa"
      },
      "source": [
        "from sklearn.ensemble import RandomForestClassifier\n",
        "\n",
        "#Model\n",
        "r_forest=RandomForestClassifier(n_estimators=100)\n",
        "\n",
        "#Memasukkan data training pada fungsi klasifikasi Random Forest\n",
        "r_forest.fit(x_train,y_train)\n",
        "\n",
        "#Menentukan hasil prediksi dari x_test yang disebut dengan y prediksi RF\n",
        "y_pred_RF = r_forest.predict(x_test)"
      ],
      "execution_count": null,
      "outputs": [
        {
          "output_type": "stream",
          "text": [
            "/usr/local/lib/python3.7/dist-packages/ipykernel_launcher.py:7: DataConversionWarning: A column-vector y was passed when a 1d array was expected. Please change the shape of y to (n_samples,), for example using ravel().\n",
            "  import sys\n"
          ],
          "name": "stderr"
        }
      ]
    },
    {
      "cell_type": "code",
      "metadata": {
        "colab": {
          "base_uri": "https://localhost:8080/"
        },
        "id": "T6gPcLh2CNJu",
        "outputId": "3accdad6-7a83-4e9d-d00c-651310d1b931"
      },
      "source": [
        "from sklearn.metrics import f1_score as f1\n",
        "from sklearn.metrics import accuracy_score as acc\n",
        "from sklearn.metrics import precision_score as pr\n",
        "from sklearn.metrics import recall_score as rec\n",
        "\n",
        "# Accuracy score\n",
        "print(\"RANDOM FOREST\\n\")\n",
        "\n",
        "print(\"F1-SCORE \",f1(y_test,y_pred_RF,average='macro'))\n",
        "\n",
        "print(\"ACCURACY \",acc(y_test,y_pred_RF))\n",
        "\n",
        "print(\"PRECISION \",pr(y_test,y_pred_RF,average='macro'))\n",
        "\n",
        "print(\"RECALL\",rec(y_test,y_pred_RF,average='macro'))\n"
      ],
      "execution_count": null,
      "outputs": [
        {
          "output_type": "stream",
          "text": [
            "RANDOM FOREST\n",
            "\n",
            "F1-SCORE  0.5444283195807229\n",
            "ACCURACY  0.8658032284472806\n",
            "PRECISION  0.617530756476489\n",
            "RECALL 0.5388848122879648\n"
          ],
          "name": "stdout"
        }
      ]
    },
    {
      "cell_type": "code",
      "metadata": {
        "colab": {
          "base_uri": "https://localhost:8080/"
        },
        "id": "LyxRsy6kCQUw",
        "outputId": "14a52a4f-e8a0-4b43-c75d-ac88a4c359dc"
      },
      "source": [
        "from sklearn.metrics import classification_report\n",
        "\n",
        "print(classification_report(y_test, y_pred_RF))"
      ],
      "execution_count": null,
      "outputs": [
        {
          "output_type": "stream",
          "text": [
            "              precision    recall  f1-score   support\n",
            "\n",
            "           0       0.89      0.97      0.93     41778\n",
            "           1       0.35      0.11      0.16      5861\n",
            "\n",
            "    accuracy                           0.87     47639\n",
            "   macro avg       0.62      0.54      0.54     47639\n",
            "weighted avg       0.82      0.87      0.83     47639\n",
            "\n"
          ],
          "name": "stdout"
        }
      ]
    },
    {
      "cell_type": "markdown",
      "metadata": {
        "id": "nCsanps8FvXY"
      },
      "source": [
        "**4. Metode Decission Tree**"
      ]
    },
    {
      "cell_type": "code",
      "metadata": {
        "id": "DpPe1PaVF4SE"
      },
      "source": [
        "from sklearn.tree import DecisionTreeClassifier \n",
        "\n",
        "#Model\n",
        "d_tree = DecisionTreeClassifier(random_state=0)\n",
        "\n",
        "#Memasukkan data training pada fungsi klasifikasi Decision Tree\n",
        "d_tree.fit(x_train, y_train)\n",
        "\n",
        "#Menentukan hasil prediksi dari x_test yang disebut dengan y prediksi DT\n",
        "y_pred_DT = d_tree.predict(x_test)"
      ],
      "execution_count": null,
      "outputs": []
    },
    {
      "cell_type": "code",
      "metadata": {
        "colab": {
          "base_uri": "https://localhost:8080/"
        },
        "id": "b4NBjlIZGhsb",
        "outputId": "e11e568c-85e0-4f31-9d07-afdf2f4cd8d3"
      },
      "source": [
        "# Accuracy score\n",
        "print(\"DECISION TREE\\n\")\n",
        "\n",
        "print(\"F1-SCORE \",f1(y_test,y_pred_DT,average='macro'))\n",
        "\n",
        "print(\"ACCURACY \",acc(y_test,y_pred_DT))\n",
        "\n",
        "print(\"PRECISION \",pr(y_test,y_pred_DT,average='macro'))\n",
        "\n",
        "print(\"RECALL\",rec(y_test,y_pred_DT,average='macro'))"
      ],
      "execution_count": null,
      "outputs": [
        {
          "output_type": "stream",
          "text": [
            "DECISION TREE\n",
            "\n",
            "F1-SCORE  0.5933578372755066\n",
            "ACCURACY  0.8218476458363946\n",
            "PRECISION  0.5920151646426735\n",
            "RECALL 0.5947929599266535\n"
          ],
          "name": "stdout"
        }
      ]
    },
    {
      "cell_type": "code",
      "metadata": {
        "colab": {
          "base_uri": "https://localhost:8080/"
        },
        "id": "0G4i1z9gH-an",
        "outputId": "52cd6280-c264-4591-fb12-ecde726b74ef"
      },
      "source": [
        "from sklearn.metrics import classification_report\n",
        "\n",
        "print(classification_report(y_test, y_pred_DT))"
      ],
      "execution_count": null,
      "outputs": [
        {
          "output_type": "stream",
          "text": [
            "              precision    recall  f1-score   support\n",
            "\n",
            "           0       0.90      0.90      0.90     41778\n",
            "           1       0.28      0.29      0.29      5861\n",
            "\n",
            "    accuracy                           0.82     47639\n",
            "   macro avg       0.59      0.59      0.59     47639\n",
            "weighted avg       0.82      0.82      0.82     47639\n",
            "\n"
          ],
          "name": "stdout"
        }
      ]
    },
    {
      "cell_type": "markdown",
      "metadata": {
        "id": "9inGmjnAvX4R"
      },
      "source": [
        "# **Evaluasi**"
      ]
    },
    {
      "cell_type": "markdown",
      "metadata": {
        "id": "69iUOqFBvmTI"
      },
      "source": [
        "**Pemodelan**"
      ]
    },
    {
      "cell_type": "markdown",
      "metadata": {
        "id": "hjX9gLv6vrr1"
      },
      "source": [
        "**Eksperimen 1:**\n",
        "\n",
        "Eksperimen 1 yaitu, menggunakan metode algoritma **K-nearest neighbour** dan mendapatkan hasil sebagai berikut:\n",
        "\n",
        "**Akurasi: 0.8616049875102332 (86%)**\n",
        "\n",
        "**Presisi: 0.6131062475595782  (61%)**"
      ]
    },
    {
      "cell_type": "markdown",
      "metadata": {
        "id": "Y4j-RobvwInx"
      },
      "source": [
        "**Eksperimen 2:**\n",
        "\n",
        "Eksperimen 2 yaitu, menggunakan metode algoritma **Naive Bayes** dan mendapatkan hasil sebagai berikut:\n",
        "\n",
        "**Akurasi: 0.6395600243497974 (64%)** \n",
        "\n",
        "**Presisi: 0.6227893513996916 (62%)**"
      ]
    },
    {
      "cell_type": "markdown",
      "metadata": {
        "id": "e4vB4gYDwKPd"
      },
      "source": [
        "**Eksperimen 3:**\n",
        "\n",
        "Eksperimen 3 yaitu, menggunakan metode algoritma **Random Forest** dan mendapatkan hasil sebagai berikut:\n",
        "\n",
        "**Akurasi: 0.8661810701316148 (87%)**\n",
        "\n",
        "**Presisi: 0.6207185605037415 (62%)**"
      ]
    },
    {
      "cell_type": "markdown",
      "metadata": {
        "id": "tqv_tA8pwMyO"
      },
      "source": [
        "**Eksperimen 4:**\n",
        "\n",
        "Eksperimen 4 yaitu, menggunakan metode algoritma **Decision Tree** dan mendapatkan hasil sebagai berikut:\n",
        "\n",
        "**Akurasi: 0.8218476458363946 (82%)**\n",
        "\n",
        "**Presisi: 0.5920151646426735 (59%)**"
      ]
    }
  ]
}